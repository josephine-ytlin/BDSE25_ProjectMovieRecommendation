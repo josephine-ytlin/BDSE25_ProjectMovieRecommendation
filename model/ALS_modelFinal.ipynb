{
 "cells": [
  {
   "cell_type": "code",
   "execution_count": 1,
   "id": "4b2fc332-deb1-42b6-9909-ac4d6847bbec",
   "metadata": {},
   "outputs": [],
   "source": [
    "from pyspark.sql import SparkSession\n",
    "from pyspark.ml.evaluation import RegressionEvaluator \n",
    "from pyspark.ml.recommendation import ALS\n",
    "from pyspark.ml.tuning import TrainValidationSplit, ParamGridBuilder, CrossValidator\n",
    "from pyspark.sql.functions import expr"
   ]
  },
  {
   "cell_type": "code",
   "execution_count": 2,
   "id": "364bc67d-cdd5-488b-9f90-4786b596fe2f",
   "metadata": {},
   "outputs": [
    {
     "name": "stderr",
     "output_type": "stream",
     "text": [
      "Setting default log level to \"WARN\".\n",
      "To adjust logging level use sc.setLogLevel(newLevel). For SparkR, use setLogLevel(newLevel).\n"
     ]
    },
    {
     "name": "stdout",
     "output_type": "stream",
     "text": [
      "22/08/05 11:31:32 WARN NativeCodeLoader: Unable to load native-hadoop library for your platform... using builtin-java classes where applicable\n"
     ]
    },
    {
     "data": {
      "text/html": [
       "\n",
       "            <div>\n",
       "                <p><b>SparkSession - in-memory</b></p>\n",
       "                \n",
       "        <div>\n",
       "            <p><b>SparkContext</b></p>\n",
       "\n",
       "            <p><a href=\"http://ubuntu12.example.com:4040\">Spark UI</a></p>\n",
       "\n",
       "            <dl>\n",
       "              <dt>Version</dt>\n",
       "                <dd><code>v3.3.0</code></dd>\n",
       "              <dt>Master</dt>\n",
       "                <dd><code>local[*]</code></dd>\n",
       "              <dt>AppName</dt>\n",
       "                <dd><code>ALSmodel</code></dd>\n",
       "            </dl>\n",
       "        </div>\n",
       "        \n",
       "            </div>\n",
       "        "
      ],
      "text/plain": [
       "<pyspark.sql.session.SparkSession at 0x7f23ccb7b130>"
      ]
     },
     "execution_count": 2,
     "metadata": {},
     "output_type": "execute_result"
    }
   ],
   "source": [
    "spark = SparkSession.builder.appName(\"ALSmodel\").config('spark.driver.memory','16G').getOrCreate()\n",
    "\n",
    "spark"
   ]
  },
  {
   "cell_type": "code",
   "execution_count": null,
   "id": "718f7d06-e455-4102-b588-7f02dd0379a6",
   "metadata": {},
   "outputs": [],
   "source": [
    "# yarn mode\n",
    "spark = SparkSession\\\n",
    "        .builder\\\n",
    "        .master(\"yarn\")\\\n",
    "        .config('spark.executor.instances','10')\\\n",
    "        .config('spark.executor.memory','8G')\\\n",
    "        .config('spark.driver.memory','2G')\\\n",
    "        .appName(\"modelTraining0723\")\\\n",
    "        .getOrCreate()"
   ]
  },
  {
   "cell_type": "code",
   "execution_count": null,
   "id": "d6825553-b7af-467d-a37d-5369a9d4c8e3",
   "metadata": {},
   "outputs": [],
   "source": [
    "spark"
   ]
  },
  {
   "cell_type": "markdown",
   "id": "7adfe9da-a246-4982-8cb7-07f919844bba",
   "metadata": {
    "tags": []
   },
   "source": [
    "##### Read raw dataset"
   ]
  },
  {
   "cell_type": "markdown",
   "id": "53320840-89b4-4ac1-836b-197fd9fb190b",
   "metadata": {
    "tags": []
   },
   "source": [
    "###### df_ratings"
   ]
  },
  {
   "cell_type": "code",
   "execution_count": 8,
   "id": "770fd0f9-8792-4ebe-8b08-19cee32381a0",
   "metadata": {},
   "outputs": [
    {
     "name": "stderr",
     "output_type": "stream",
     "text": [
      "[Stage 2:=================================================>         (5 + 1) / 6]\r"
     ]
    },
    {
     "name": "stdout",
     "output_type": "stream",
     "text": [
      "+-------+-----------------+------------------+------------------+--------------------+\n",
      "|summary|           userId|           movieId|            rating|           timestamp|\n",
      "+-------+-----------------+------------------+------------------+--------------------+\n",
      "|  count|         25000095|          25000095|          25000095|            25000095|\n",
      "|   mean|81189.28115381162|21387.981943268616| 3.533854451353085|1.2156014431215513E9|\n",
      "| stddev|46791.71589745776| 39198.86210105973|1.0607439611423535| 2.268758080595386E8|\n",
      "|    min|                1|                 1|               0.5|           789652009|\n",
      "|    max|           162541|            209171|               5.0|          1574327703|\n",
      "+-------+-----------------+------------------+------------------+--------------------+\n",
      "\n"
     ]
    },
    {
     "name": "stderr",
     "output_type": "stream",
     "text": [
      "                                                                                \r"
     ]
    }
   ],
   "source": [
    "df_ratings = spark.read.csv(\"file:///home/yutinglin/ml-25m/ratings.csv\", inferSchema=True, header=True)\n",
    "\n",
    "# df_ratings.show()\n",
    "df_ratings.describe().show()"
   ]
  },
  {
   "cell_type": "code",
   "execution_count": 9,
   "id": "1c989ab8-29fc-40aa-8907-2800c2ffb811",
   "metadata": {},
   "outputs": [
    {
     "name": "stdout",
     "output_type": "stream",
     "text": [
      "root\n",
      " |-- userId: integer (nullable = true)\n",
      " |-- movieId: integer (nullable = true)\n",
      " |-- rating: double (nullable = true)\n",
      " |-- timestamp: integer (nullable = true)\n",
      "\n"
     ]
    }
   ],
   "source": [
    "df_ratings.printSchema()"
   ]
  },
  {
   "cell_type": "markdown",
   "id": "3fc5ba17-5a94-4c39-bce3-14fe4d9931fa",
   "metadata": {
    "tags": []
   },
   "source": [
    "###### df_ratings_new"
   ]
  },
  {
   "cell_type": "code",
   "execution_count": 10,
   "id": "0dfad23a-b4f3-4919-a970-23ba48540b6e",
   "metadata": {},
   "outputs": [
    {
     "name": "stdout",
     "output_type": "stream",
     "text": [
      "+------+-------+------+----------+----------+\n",
      "|userId|movieId|rating| timestamp|rating_new|\n",
      "+------+-------+------+----------+----------+\n",
      "|     1|    296|   5.0|1147880044|       1.0|\n",
      "|     1|    306|   3.5|1147868817|       0.7|\n",
      "|     1|    307|   5.0|1147868828|       1.0|\n",
      "|     1|    665|   5.0|1147878820|       1.0|\n",
      "|     1|    899|   3.5|1147868510|       0.7|\n",
      "|     1|   1088|   4.0|1147868495|       0.8|\n",
      "|     1|   1175|   3.5|1147868826|       0.7|\n",
      "|     1|   1217|   3.5|1147878326|       0.7|\n",
      "|     1|   1237|   5.0|1147868839|       1.0|\n",
      "|     1|   1250|   4.0|1147868414|       0.8|\n",
      "|     1|   1260|   3.5|1147877857|       0.7|\n",
      "|     1|   1653|   4.0|1147868097|       0.8|\n",
      "|     1|   2011|   2.5|1147868079|       0.5|\n",
      "|     1|   2012|   2.5|1147868068|       0.5|\n",
      "|     1|   2068|   2.5|1147869044|       0.5|\n",
      "|     1|   2161|   3.5|1147868609|       0.7|\n",
      "|     1|   2351|   4.5|1147877957|       0.9|\n",
      "|     1|   2573|   4.0|1147878923|       0.8|\n",
      "|     1|   2632|   5.0|1147878248|       1.0|\n",
      "|     1|   2692|   5.0|1147869100|       1.0|\n",
      "+------+-------+------+----------+----------+\n",
      "only showing top 20 rows\n",
      "\n"
     ]
    }
   ],
   "source": [
    "# df.withColumn(\"salary\",col(\"salary\")*100).show()\n",
    "from pyspark.sql.functions import *\n",
    "\n",
    "df_ratings_new = df_ratings.withColumn(\"rating_new\",col(\"rating\")/5)\n",
    "df_ratings_new.show()\n",
    "# df_ratings_new.printSchema()"
   ]
  },
  {
   "cell_type": "code",
   "execution_count": null,
   "id": "69385abe-8802-44ee-8edb-68091a97f2d5",
   "metadata": {},
   "outputs": [],
   "source": [
    "numerator = df_ratings.count()\n",
    "numerator"
   ]
  },
  {
   "cell_type": "code",
   "execution_count": null,
   "id": "7f2d2877-febf-4b0a-8054-dfe35e8eec9e",
   "metadata": {},
   "outputs": [],
   "source": [
    "users = df_ratings.select(\"userId\").distinct().count()\n",
    "users"
   ]
  },
  {
   "cell_type": "code",
   "execution_count": null,
   "id": "6388cfdc-7750-4a78-a802-991008a3156e",
   "metadata": {},
   "outputs": [],
   "source": [
    "movies = df_ratings.select(\"movieId\").distinct().count()\n",
    "movies"
   ]
  },
  {
   "cell_type": "code",
   "execution_count": null,
   "id": "d030aacf-985b-4053-a777-fe34871e467f",
   "metadata": {},
   "outputs": [],
   "source": [
    "denominator = users * movies\n",
    "denominator"
   ]
  },
  {
   "cell_type": "code",
   "execution_count": null,
   "id": "d517938f-fa48-4221-bc92-1fc6e71a2027",
   "metadata": {},
   "outputs": [],
   "source": [
    "sparsity = 1 - (numerator*1.0 / denominator)\n",
    "print (\"Sparsity: \", sparsity*100 , \"%\")"
   ]
  },
  {
   "cell_type": "code",
   "execution_count": 11,
   "id": "56f1b8af-b9f4-4488-815e-71d0c1f97949",
   "metadata": {},
   "outputs": [
    {
     "name": "stderr",
     "output_type": "stream",
     "text": [
      "/usr/local/lib/python3.8/dist-packages/pandas/core/reshape/reshape.py:134: PerformanceWarning: The following operation may generate 9597558427 cells in the resulting pandas object.\n",
      "  warnings.warn(\n"
     ]
    },
    {
     "ename": "MemoryError",
     "evalue": "Unable to allocate 71.5 GiB for an array with shape (162541, 59047) and data type float64",
     "output_type": "error",
     "traceback": [
      "\u001b[0;31m---------------------------------------------------------------------------\u001b[0m",
      "\u001b[0;31mMemoryError\u001b[0m                               Traceback (most recent call last)",
      "Input \u001b[0;32mIn [11]\u001b[0m, in \u001b[0;36m<cell line: 3>\u001b[0;34m()\u001b[0m\n\u001b[1;32m      1\u001b[0m \u001b[38;5;66;03m# import pyspark.pandas.DataFrame.pivot \u001b[39;00m\n\u001b[1;32m      2\u001b[0m df_ratings_ps\u001b[38;5;241m=\u001b[39m df_ratings\u001b[38;5;241m.\u001b[39mtoPandas()\n\u001b[0;32m----> 3\u001b[0m R_df \u001b[38;5;241m=\u001b[39m \u001b[43mdf_ratings_ps\u001b[49m\u001b[38;5;241;43m.\u001b[39;49m\u001b[43mpivot\u001b[49m\u001b[43m(\u001b[49m\u001b[43mindex\u001b[49m\u001b[43m \u001b[49m\u001b[38;5;241;43m=\u001b[39;49m\u001b[43m \u001b[49m\u001b[38;5;124;43m'\u001b[39;49m\u001b[38;5;124;43muserId\u001b[39;49m\u001b[38;5;124;43m'\u001b[39;49m\u001b[43m,\u001b[49m\u001b[43m \u001b[49m\u001b[43mcolumns\u001b[49m\u001b[43m \u001b[49m\u001b[38;5;241;43m=\u001b[39;49m\u001b[38;5;124;43m'\u001b[39;49m\u001b[38;5;124;43mmovieId\u001b[39;49m\u001b[38;5;124;43m'\u001b[39;49m\u001b[43m,\u001b[49m\u001b[43m \u001b[49m\u001b[43mvalues\u001b[49m\u001b[43m \u001b[49m\u001b[38;5;241;43m=\u001b[39;49m\u001b[43m \u001b[49m\u001b[38;5;124;43m'\u001b[39;49m\u001b[38;5;124;43mrating\u001b[39;49m\u001b[38;5;124;43m'\u001b[39;49m\u001b[43m)\u001b[49m\n",
      "File \u001b[0;32m/usr/local/lib/python3.8/dist-packages/pandas/core/frame.py:7876\u001b[0m, in \u001b[0;36mDataFrame.pivot\u001b[0;34m(self, index, columns, values)\u001b[0m\n\u001b[1;32m   7871\u001b[0m \u001b[38;5;129m@Substitution\u001b[39m(\u001b[38;5;124m\"\u001b[39m\u001b[38;5;124m\"\u001b[39m)\n\u001b[1;32m   7872\u001b[0m \u001b[38;5;129m@Appender\u001b[39m(_shared_docs[\u001b[38;5;124m\"\u001b[39m\u001b[38;5;124mpivot\u001b[39m\u001b[38;5;124m\"\u001b[39m])\n\u001b[1;32m   7873\u001b[0m \u001b[38;5;28;01mdef\u001b[39;00m \u001b[38;5;21mpivot\u001b[39m(\u001b[38;5;28mself\u001b[39m, index\u001b[38;5;241m=\u001b[39m\u001b[38;5;28;01mNone\u001b[39;00m, columns\u001b[38;5;241m=\u001b[39m\u001b[38;5;28;01mNone\u001b[39;00m, values\u001b[38;5;241m=\u001b[39m\u001b[38;5;28;01mNone\u001b[39;00m) \u001b[38;5;241m-\u001b[39m\u001b[38;5;241m>\u001b[39m DataFrame:\n\u001b[1;32m   7874\u001b[0m     \u001b[38;5;28;01mfrom\u001b[39;00m \u001b[38;5;21;01mpandas\u001b[39;00m\u001b[38;5;21;01m.\u001b[39;00m\u001b[38;5;21;01mcore\u001b[39;00m\u001b[38;5;21;01m.\u001b[39;00m\u001b[38;5;21;01mreshape\u001b[39;00m\u001b[38;5;21;01m.\u001b[39;00m\u001b[38;5;21;01mpivot\u001b[39;00m \u001b[38;5;28;01mimport\u001b[39;00m pivot\n\u001b[0;32m-> 7876\u001b[0m     \u001b[38;5;28;01mreturn\u001b[39;00m \u001b[43mpivot\u001b[49m\u001b[43m(\u001b[49m\u001b[38;5;28;43mself\u001b[39;49m\u001b[43m,\u001b[49m\u001b[43m \u001b[49m\u001b[43mindex\u001b[49m\u001b[38;5;241;43m=\u001b[39;49m\u001b[43mindex\u001b[49m\u001b[43m,\u001b[49m\u001b[43m \u001b[49m\u001b[43mcolumns\u001b[49m\u001b[38;5;241;43m=\u001b[39;49m\u001b[43mcolumns\u001b[49m\u001b[43m,\u001b[49m\u001b[43m \u001b[49m\u001b[43mvalues\u001b[49m\u001b[38;5;241;43m=\u001b[39;49m\u001b[43mvalues\u001b[49m\u001b[43m)\u001b[49m\n",
      "File \u001b[0;32m/usr/local/lib/python3.8/dist-packages/pandas/core/reshape/pivot.py:520\u001b[0m, in \u001b[0;36mpivot\u001b[0;34m(data, index, columns, values)\u001b[0m\n\u001b[1;32m    518\u001b[0m     \u001b[38;5;28;01melse\u001b[39;00m:\n\u001b[1;32m    519\u001b[0m         indexed \u001b[38;5;241m=\u001b[39m data\u001b[38;5;241m.\u001b[39m_constructor_sliced(data[values]\u001b[38;5;241m.\u001b[39m_values, index\u001b[38;5;241m=\u001b[39mmultiindex)\n\u001b[0;32m--> 520\u001b[0m \u001b[38;5;28;01mreturn\u001b[39;00m \u001b[43mindexed\u001b[49m\u001b[38;5;241;43m.\u001b[39;49m\u001b[43munstack\u001b[49m\u001b[43m(\u001b[49m\u001b[43mcolumns_listlike\u001b[49m\u001b[43m)\u001b[49m\n",
      "File \u001b[0;32m/usr/local/lib/python3.8/dist-packages/pandas/core/series.py:4157\u001b[0m, in \u001b[0;36mSeries.unstack\u001b[0;34m(self, level, fill_value)\u001b[0m\n\u001b[1;32m   4114\u001b[0m \u001b[38;5;124;03m\"\"\"\u001b[39;00m\n\u001b[1;32m   4115\u001b[0m \u001b[38;5;124;03mUnstack, also known as pivot, Series with MultiIndex to produce DataFrame.\u001b[39;00m\n\u001b[1;32m   4116\u001b[0m \n\u001b[0;32m   (...)\u001b[0m\n\u001b[1;32m   4153\u001b[0m \u001b[38;5;124;03mb    2    4\u001b[39;00m\n\u001b[1;32m   4154\u001b[0m \u001b[38;5;124;03m\"\"\"\u001b[39;00m\n\u001b[1;32m   4155\u001b[0m \u001b[38;5;28;01mfrom\u001b[39;00m \u001b[38;5;21;01mpandas\u001b[39;00m\u001b[38;5;21;01m.\u001b[39;00m\u001b[38;5;21;01mcore\u001b[39;00m\u001b[38;5;21;01m.\u001b[39;00m\u001b[38;5;21;01mreshape\u001b[39;00m\u001b[38;5;21;01m.\u001b[39;00m\u001b[38;5;21;01mreshape\u001b[39;00m \u001b[38;5;28;01mimport\u001b[39;00m unstack\n\u001b[0;32m-> 4157\u001b[0m \u001b[38;5;28;01mreturn\u001b[39;00m \u001b[43munstack\u001b[49m\u001b[43m(\u001b[49m\u001b[38;5;28;43mself\u001b[39;49m\u001b[43m,\u001b[49m\u001b[43m \u001b[49m\u001b[43mlevel\u001b[49m\u001b[43m,\u001b[49m\u001b[43m \u001b[49m\u001b[43mfill_value\u001b[49m\u001b[43m)\u001b[49m\n",
      "File \u001b[0;32m/usr/local/lib/python3.8/dist-packages/pandas/core/reshape/reshape.py:494\u001b[0m, in \u001b[0;36munstack\u001b[0;34m(obj, level, fill_value)\u001b[0m\n\u001b[1;32m    490\u001b[0m     \u001b[38;5;28;01mreturn\u001b[39;00m _unstack_extension_series(obj, level, fill_value)\n\u001b[1;32m    491\u001b[0m unstacker \u001b[38;5;241m=\u001b[39m _Unstacker(\n\u001b[1;32m    492\u001b[0m     obj\u001b[38;5;241m.\u001b[39mindex, level\u001b[38;5;241m=\u001b[39mlevel, constructor\u001b[38;5;241m=\u001b[39mobj\u001b[38;5;241m.\u001b[39m_constructor_expanddim\n\u001b[1;32m    493\u001b[0m )\n\u001b[0;32m--> 494\u001b[0m \u001b[38;5;28;01mreturn\u001b[39;00m \u001b[43munstacker\u001b[49m\u001b[38;5;241;43m.\u001b[39;49m\u001b[43mget_result\u001b[49m\u001b[43m(\u001b[49m\n\u001b[1;32m    495\u001b[0m \u001b[43m    \u001b[49m\u001b[43mobj\u001b[49m\u001b[38;5;241;43m.\u001b[39;49m\u001b[43m_values\u001b[49m\u001b[43m,\u001b[49m\u001b[43m \u001b[49m\u001b[43mvalue_columns\u001b[49m\u001b[38;5;241;43m=\u001b[39;49m\u001b[38;5;28;43;01mNone\u001b[39;49;00m\u001b[43m,\u001b[49m\u001b[43m \u001b[49m\u001b[43mfill_value\u001b[49m\u001b[38;5;241;43m=\u001b[39;49m\u001b[43mfill_value\u001b[49m\n\u001b[1;32m    496\u001b[0m \u001b[43m\u001b[49m\u001b[43m)\u001b[49m\n",
      "File \u001b[0;32m/usr/local/lib/python3.8/dist-packages/pandas/core/reshape/reshape.py:219\u001b[0m, in \u001b[0;36m_Unstacker.get_result\u001b[0;34m(self, values, value_columns, fill_value)\u001b[0m\n\u001b[1;32m    216\u001b[0m \u001b[38;5;28;01mif\u001b[39;00m value_columns \u001b[38;5;129;01mis\u001b[39;00m \u001b[38;5;28;01mNone\u001b[39;00m \u001b[38;5;129;01mand\u001b[39;00m values\u001b[38;5;241m.\u001b[39mshape[\u001b[38;5;241m1\u001b[39m] \u001b[38;5;241m!=\u001b[39m \u001b[38;5;241m1\u001b[39m:  \u001b[38;5;66;03m# pragma: no cover\u001b[39;00m\n\u001b[1;32m    217\u001b[0m     \u001b[38;5;28;01mraise\u001b[39;00m \u001b[38;5;167;01mValueError\u001b[39;00m(\u001b[38;5;124m\"\u001b[39m\u001b[38;5;124mmust pass column labels for multi-column data\u001b[39m\u001b[38;5;124m\"\u001b[39m)\n\u001b[0;32m--> 219\u001b[0m values, _ \u001b[38;5;241m=\u001b[39m \u001b[38;5;28;43mself\u001b[39;49m\u001b[38;5;241;43m.\u001b[39;49m\u001b[43mget_new_values\u001b[49m\u001b[43m(\u001b[49m\u001b[43mvalues\u001b[49m\u001b[43m,\u001b[49m\u001b[43m \u001b[49m\u001b[43mfill_value\u001b[49m\u001b[43m)\u001b[49m\n\u001b[1;32m    220\u001b[0m columns \u001b[38;5;241m=\u001b[39m \u001b[38;5;28mself\u001b[39m\u001b[38;5;241m.\u001b[39mget_new_columns(value_columns)\n\u001b[1;32m    221\u001b[0m index \u001b[38;5;241m=\u001b[39m \u001b[38;5;28mself\u001b[39m\u001b[38;5;241m.\u001b[39mnew_index\n",
      "File \u001b[0;32m/usr/local/lib/python3.8/dist-packages/pandas/core/reshape/reshape.py:269\u001b[0m, in \u001b[0;36m_Unstacker.get_new_values\u001b[0;34m(self, values, fill_value)\u001b[0m\n\u001b[1;32m    267\u001b[0m     \u001b[38;5;28;01melse\u001b[39;00m:\n\u001b[1;32m    268\u001b[0m         dtype, fill_value \u001b[38;5;241m=\u001b[39m maybe_promote(dtype, fill_value)\n\u001b[0;32m--> 269\u001b[0m         new_values \u001b[38;5;241m=\u001b[39m \u001b[43mnp\u001b[49m\u001b[38;5;241;43m.\u001b[39;49m\u001b[43mempty\u001b[49m\u001b[43m(\u001b[49m\u001b[43mresult_shape\u001b[49m\u001b[43m,\u001b[49m\u001b[43m \u001b[49m\u001b[43mdtype\u001b[49m\u001b[38;5;241;43m=\u001b[39;49m\u001b[43mdtype\u001b[49m\u001b[43m)\u001b[49m\n\u001b[1;32m    270\u001b[0m         new_values\u001b[38;5;241m.\u001b[39mfill(fill_value)\n\u001b[1;32m    272\u001b[0m name \u001b[38;5;241m=\u001b[39m dtype\u001b[38;5;241m.\u001b[39mname\n",
      "\u001b[0;31mMemoryError\u001b[0m: Unable to allocate 71.5 GiB for an array with shape (162541, 59047) and data type float64"
     ]
    }
   ],
   "source": [
    "#需要叢集\n",
    "df_ratings_ps= df_ratings.toPandas()\n",
    "R_df = df_ratings_ps.pivot(index = 'userId', columns ='movieId', values = 'rating')"
   ]
  },
  {
   "cell_type": "code",
   "execution_count": null,
   "id": "0b480349-85d9-499b-9a2e-39580a7b01de",
   "metadata": {},
   "outputs": [],
   "source": [
    "# Number of ratings in matrix\n",
    "numerator = df_ratings.count()\n",
    "# Distinct users and movies\n",
    "users = df_ratings.select(\"userId\").distinct().count()\n",
    "movies = df_ratings.select(\"movieId\").distinct().count()\n",
    "# Number of ratings matrix could contain if no empty cells\n",
    "denominator = users * movies\n",
    "#Calculating sparsity\n",
    "sparsity = 1 - (numerator*1.0 / denominator)\n",
    "print (\"Sparsity: \"), sparsity"
   ]
  },
  {
   "cell_type": "markdown",
   "id": "85b8a14c-e221-4e19-908f-21c6e3367ee1",
   "metadata": {
    "jp-MarkdownHeadingCollapsed": true,
    "tags": []
   },
   "source": [
    "###### df_movies"
   ]
  },
  {
   "cell_type": "code",
   "execution_count": null,
   "id": "dff84b62-9722-407c-972d-36d1fba995fe",
   "metadata": {},
   "outputs": [],
   "source": [
    "df_movies = spark.read.csv(\"file:///home/yutinglin/ml-25m/movies.csv\", inferSchema=True, header=True)\n",
    "\n",
    "df_movies.describe().show()"
   ]
  },
  {
   "cell_type": "markdown",
   "id": "27c3ba71-fd93-44df-8f84-e5a17492e154",
   "metadata": {
    "jp-MarkdownHeadingCollapsed": true,
    "tags": []
   },
   "source": [
    "###### df_pre"
   ]
  },
  {
   "cell_type": "code",
   "execution_count": null,
   "id": "2e81cbd3-da63-4e52-8248-7637f85a23d2",
   "metadata": {},
   "outputs": [],
   "source": [
    "# df_pre = spark.read.csv(\"file:///home/yutinglin/ml-25m/preference.csv\", inferSchema=True, header=True)\n",
    "# df_pre = df_pre.drop('_c0')\n",
    "# df_pre.describe().show()"
   ]
  },
  {
   "cell_type": "code",
   "execution_count": null,
   "id": "9341f146-74e9-41c6-ba1a-0540cf6f997b",
   "metadata": {},
   "outputs": [],
   "source": [
    "# df_pre.printSchema()"
   ]
  },
  {
   "cell_type": "code",
   "execution_count": null,
   "id": "8e150f80-6586-46ba-b679-9e66fbfcae21",
   "metadata": {},
   "outputs": [],
   "source": [
    "# df_pre.write.parquet('file:///home/yutinglin/ml-25m/df_pre.csv', mode='overwrite')\n"
   ]
  },
  {
   "cell_type": "code",
   "execution_count": null,
   "id": "c8030594-32d4-465c-90ec-e369c54d66d7",
   "metadata": {},
   "outputs": [],
   "source": [
    "df_pre=spark.read.parquet('file:///home/yutinglin/ml-25m/df_pre.csv') "
   ]
  },
  {
   "cell_type": "markdown",
   "id": "68235ca4-1f9f-46e9-be52-164ca9d63aad",
   "metadata": {
    "jp-MarkdownHeadingCollapsed": true,
    "tags": []
   },
   "source": [
    "###### df_zscore"
   ]
  },
  {
   "cell_type": "code",
   "execution_count": 3,
   "id": "aa46b763-df6e-4a28-a6c9-260da8686a01",
   "metadata": {},
   "outputs": [
    {
     "name": "stderr",
     "output_type": "stream",
     "text": [
      "[Stage 2:=======================================>                   (6 + 2) / 9]\r"
     ]
    },
    {
     "name": "stdout",
     "output_type": "stream",
     "text": [
      "+-------+-----------------+------------------+--------------------+--------------------+\n",
      "|summary|           userId|           movieId|           timestamp|              zscore|\n",
      "+-------+-----------------+------------------+--------------------+--------------------+\n",
      "|  count|         25000095|          25000095|            25000095|            25000095|\n",
      "|   mean|81189.28115381162|21387.981943268616|1.2156014431215518E9|-1.14208089891811...|\n",
      "| stddev|46791.71589745487|39198.862101060164|2.2687580805953485E8|  1.0000000199999284|\n",
      "|    min|                1|                 1|           789652009| -2.8601195228702334|\n",
      "|    max|           162541|            209171|          1574327703|  1.3821861181191855|\n",
      "+-------+-----------------+------------------+--------------------+--------------------+\n",
      "\n"
     ]
    },
    {
     "name": "stderr",
     "output_type": "stream",
     "text": [
      "                                                                                \r"
     ]
    }
   ],
   "source": [
    "df_zscore = spark.read.csv(\"file:///home/yutinglin/ml-25m/zscore.csv\", inferSchema=True, header=True)\n",
    "\n",
    "df_zscore.describe().show()"
   ]
  },
  {
   "cell_type": "markdown",
   "id": "4f72b2a5-ceea-47b7-9ec7-faf7d2f980f0",
   "metadata": {},
   "source": [
    "###### df_boxcox"
   ]
  },
  {
   "cell_type": "code",
   "execution_count": 14,
   "id": "99faea78-3cc5-4aa8-901b-5f7c7620b864",
   "metadata": {},
   "outputs": [
    {
     "name": "stderr",
     "output_type": "stream",
     "text": [
      "[Stage 908:===============================================>         (5 + 1) / 6]\r"
     ]
    },
    {
     "name": "stdout",
     "output_type": "stream",
     "text": [
      "+-------+-----------------+------------------+-------------------+\n",
      "|summary|           userId|           movieId|              rc_bc|\n",
      "+-------+-----------------+------------------+-------------------+\n",
      "|  count|         25000095|          25000095|           25000095|\n",
      "|   mean|81189.28115381162|21387.981943268616| 4.2903387630443115|\n",
      "| stddev|46791.71589745411|39198.862101059785|  2.099199282879676|\n",
      "|    min|                1|                 1|-0.4190929316066643|\n",
      "|    max|           162541|            209171|  7.563974611605411|\n",
      "+-------+-----------------+------------------+-------------------+\n",
      "\n"
     ]
    },
    {
     "name": "stderr",
     "output_type": "stream",
     "text": [
      "                                                                                \r"
     ]
    }
   ],
   "source": [
    "df_boxcox = spark.read.csv(\"file:///home/yutinglin/ml-25m/boxcox.csv\", inferSchema=True, header=True)\n",
    "\n",
    "df_boxcox.describe().show()"
   ]
  },
  {
   "cell_type": "markdown",
   "id": "16649840-8247-4384-bdcc-102f516ff012",
   "metadata": {
    "jp-MarkdownHeadingCollapsed": true,
    "tags": []
   },
   "source": [
    "##### Subset1: df_after2015"
   ]
  },
  {
   "cell_type": "code",
   "execution_count": null,
   "id": "6fa7e3a3-4c8f-4795-a49d-798525ea916a",
   "metadata": {},
   "outputs": [],
   "source": [
    "#transform timestamp\n",
    "from pyspark.sql.functions import *\n",
    "from pyspark.sql.types import StringType,DoubleType,IntegerType\n",
    "\n",
    "df_ratings_year = df_ratings.withColumn('year',from_unixtime(col('timestamp'),\"yyyy\"))\n",
    "\n",
    "\n",
    "\n",
    "# df_ratings.withColumn('real_time',from_unixtime(col('timestamp'),\"MM-dd-yyyy HH:mm:ss\").alias('timestamp')).show()\n",
    "# df_ratings.select(from_unixtime(col('timestamp'),\"yyyy\").alias('timestamp')).show()\n",
    "# df_ratings.withColumn('real_time',from_unixtime('timestamp')).show()\n",
    "# df_ratings.withColumn('real_time',fn.from_unixtime('timestamp').cast(DataType())).show()"
   ]
  },
  {
   "cell_type": "code",
   "execution_count": null,
   "id": "6bf7c3bc-8861-4c09-b337-75d9c373303d",
   "metadata": {},
   "outputs": [],
   "source": [
    "df_ratings_year.show(5)"
   ]
  },
  {
   "cell_type": "code",
   "execution_count": null,
   "id": "fb3a520e-70b5-4eac-9d4f-7da034815682",
   "metadata": {},
   "outputs": [],
   "source": [
    "df_after2015 = df_ratings_year.filter(df_ratings_year['year'] >= 2015)"
   ]
  },
  {
   "cell_type": "code",
   "execution_count": null,
   "id": "d71f66b6-d318-4975-845c-8f3d50937a28",
   "metadata": {},
   "outputs": [],
   "source": [
    "df_after2015.describe().show()"
   ]
  },
  {
   "cell_type": "code",
   "execution_count": null,
   "id": "956d668c-19de-4dbe-8c26-241943db7bd4",
   "metadata": {},
   "outputs": [],
   "source": [
    "df_after2015.write.parquet('file:///home/yutinglin/ml-25m/df_after2015.csv', mode='overwrite')\n"
   ]
  },
  {
   "cell_type": "markdown",
   "id": "8d03cbfd-3bda-4ae3-8441-56254cd37579",
   "metadata": {
    "jp-MarkdownHeadingCollapsed": true,
    "tags": []
   },
   "source": [
    "##### Subset2 : df_HF_movies"
   ]
  },
  {
   "cell_type": "code",
   "execution_count": null,
   "id": "75c056d9-48dc-4d09-8e51-8982bd0822a3",
   "metadata": {},
   "outputs": [],
   "source": [
    "import pyspark.sql.functions as f\n",
    "from pyspark.sql import Window\n",
    "\n",
    "w = Window.partitionBy('movieId')\n",
    "\n",
    "df_movie_count= df_ratings.select('movieId','userId','rating',f.count('movieId').over(w).alias('count')).sort('movieId')\n",
    "# groupby('movieId').count().select('movieId',f.col('count').alias\n",
    "df_HF_movies =df_movie_count.filter(df_movie_count['count']>=100)\n",
    "df_HF_movies.describe().show()"
   ]
  },
  {
   "cell_type": "code",
   "execution_count": null,
   "id": "c9c4c543-00e2-4789-a6fe-13dfe26aea56",
   "metadata": {},
   "outputs": [],
   "source": [
    "df_HF_movies.write.parquet('file:///home/yutinglin/ml-25m/df_HF_movies.csv', mode='overwrite')\n"
   ]
  },
  {
   "cell_type": "markdown",
   "id": "386578d3-b077-4922-ad81-e750c11036c1",
   "metadata": {
    "jp-MarkdownHeadingCollapsed": true,
    "tags": []
   },
   "source": [
    "##### Subset3 : df_HF_users"
   ]
  },
  {
   "cell_type": "code",
   "execution_count": null,
   "id": "ea34a6c0-b65b-48e5-bc5b-e53cbfc957f7",
   "metadata": {},
   "outputs": [],
   "source": [
    "import pyspark.sql.functions as f\n",
    "from pyspark.sql import Window\n",
    "w = Window.partitionBy('userId')\n",
    "\n",
    "df_user_count= df_ratings.select('movieId','userId','rating',f.count('userId').over(w).alias('count')).sort('userId')\n",
    "# groupby('movieId').count().select('movieId',f.col('count').alias\n",
    "df_HF_users =df_user_count.filter(df_user_count['count']>=50)\n",
    "df_HF_users.describe().show()"
   ]
  },
  {
   "cell_type": "code",
   "execution_count": null,
   "id": "4bc0c1dc-507d-4eee-830c-419b5adee534",
   "metadata": {},
   "outputs": [],
   "source": [
    "df_HF_users.write.parquet('file:///home/yutinglin/ml-25m/df_HF_users.csv', mode='overwrite')\n"
   ]
  },
  {
   "cell_type": "code",
   "execution_count": null,
   "id": "4a947f81-3902-4f75-9b98-4d1f99f47be1",
   "metadata": {},
   "outputs": [],
   "source": []
  },
  {
   "cell_type": "code",
   "execution_count": null,
   "id": "a4b417d3-b42c-47a4-a53f-513f257c8ed9",
   "metadata": {},
   "outputs": [],
   "source": []
  },
  {
   "cell_type": "code",
   "execution_count": null,
   "id": "05d73d15-d121-46b3-9a81-57d3cf75d1a3",
   "metadata": {},
   "outputs": [],
   "source": [
    "#count the number of rating at each movie\n",
    "count = df_ratings.groupby('movieId').count()\n",
    "\n",
    "count.show(5)"
   ]
  },
  {
   "cell_type": "code",
   "execution_count": null,
   "id": "21887b73-b5b9-4a18-945e-1bc2cbf3821f",
   "metadata": {},
   "outputs": [],
   "source": [
    "#filter movies with 100 or more ratings\n",
    "#weird join\n",
    "df_HF_movies =df_count.join(df_ratings, df_count['movieId'] == df_ratings['movieId'], 'left')\\\n",
    ".filter(df_count['count']>=100)\n",
    "# .select(df_count[\"movieId\"],df_count[\"count\"], df_ratings[\"userId\"], df_ratings[\"rating\"])\\\n",
    "# .select(rec[\"movieId\"], rec[\"userId\"], rec[\"prediction\"], df_movies[\"title\"],df_movies[\"genres\"])\n",
    "\n",
    "df_HF_movies.describe().show()"
   ]
  },
  {
   "cell_type": "code",
   "execution_count": null,
   "id": "deca7850-f749-4764-b6aa-07b5a3c50d8a",
   "metadata": {},
   "outputs": [],
   "source": [
    "# Pandas UDF\n",
    "import pandas as pd\n",
    "from pyspark.sql.functions import udf, pandas_udf, PandasUDFType"
   ]
  },
  {
   "cell_type": "code",
   "execution_count": null,
   "id": "89ad38d5-49e7-4458-bd1c-0b3df96dfa79",
   "metadata": {},
   "outputs": [],
   "source": [
    "#return year column\n",
    "@pandas_udf('int')\n",
    "def HF_movies(movieId: pd.Series) -> pd.Series:\n",
    "    if movieId in df_count['movieId']:\n",
    "        return 'a'\n",
    "    else:\n",
    "        return 'b'\n",
    "\n",
    "# count_udf = udf(lambda movie: 1 if movieId in df_count['movieId'] else 0, IntegerType())\n",
    "df_ratings.withColumn(\"HF_movie\", HF_movies(df_ratings['movieId'])).show(10)\n",
    "\n",
    "# spark.sql('''select count(StockCode) from rtTable''').show()\n",
    "\n",
    "#2015以後的使用者\n",
    "# @pandas_udf(IntegerType())\n",
    "# def after_2015(timestamp):\n",
    "    \n",
    "\n",
    "# df_HF_movies =df_count.join(df_ratings, df_count['movieId'] == df_ratings['movieId'], 'inner')\\\n",
    "#     .filter(df_count['count']>=100)\n",
    "    \n",
    "# df_HF_movies.describe().show()\n",
    "\n",
    "#movies with 100 or more ratings"
   ]
  },
  {
   "cell_type": "markdown",
   "id": "9cb2db0f-b719-4c50-8c38-2f179acc9551",
   "metadata": {
    "tags": []
   },
   "source": [
    "##### Subset4 : df_preference"
   ]
  },
  {
   "cell_type": "code",
   "execution_count": 3,
   "id": "fb63d67c-17ee-421e-b82f-daf6828454dc",
   "metadata": {},
   "outputs": [
    {
     "name": "stderr",
     "output_type": "stream",
     "text": [
      "[Stage 2:====================================================>    (12 + 1) / 13]\r"
     ]
    },
    {
     "name": "stdout",
     "output_type": "stream",
     "text": [
      "+-------+-----------------+------------------+--------------------+--------------------+------------------+\n",
      "|summary|           userId|           movieId|           timestamp|     gauss_normalize|          variance|\n",
      "+-------+-----------------+------------------+--------------------+--------------------+------------------+\n",
      "|  count|         25000095|          25000095|            25000095|            24984248|          25000095|\n",
      "|   mean|81189.28115381162|21387.981943268616|1.2156014431215518E9|-4.16608287726484...|0.9022676609016025|\n",
      "| stddev| 46791.7158974552| 39198.86210106045|2.2687580805953774E8| 0.08059933882609976|0.4775038982124392|\n",
      "|    min|                1|                 1|           789652009| -0.9993748045653336|               0.0|\n",
      "|    max|           162541|            209171|          1574327703|    0.99365072945774| 5.328947368421052|\n",
      "+-------+-----------------+------------------+--------------------+--------------------+------------------+\n",
      "\n"
     ]
    },
    {
     "name": "stderr",
     "output_type": "stream",
     "text": [
      "                                                                                \r"
     ]
    }
   ],
   "source": [
    "df_normalized = spark.read.csv(\"file:///home/yutinglin/ml-25m/ratings_variance.csv\", inferSchema=True, header=True)\n",
    "\n",
    "# df_normalized.show()\n",
    "df_normalized = df_normalized.drop('_c0')\n",
    "df_normalized.describe().show()"
   ]
  },
  {
   "cell_type": "code",
   "execution_count": 4,
   "id": "690dbca2-5363-4a78-a4c8-f2ffd1d74a67",
   "metadata": {},
   "outputs": [
    {
     "name": "stderr",
     "output_type": "stream",
     "text": [
      "                                                                                \r"
     ]
    },
    {
     "data": {
      "text/plain": [
       "15847"
      ]
     },
     "execution_count": 4,
     "metadata": {},
     "output_type": "execute_result"
    }
   ],
   "source": [
    "df_normalized_lowVar =df_normalized.filter(df_normalized['variance']==0)\n",
    "df_normalized_lowVar.count()"
   ]
  },
  {
   "cell_type": "code",
   "execution_count": 5,
   "id": "04328fdd-e9f7-4cb4-b181-f2774a4571b6",
   "metadata": {},
   "outputs": [
    {
     "name": "stdout",
     "output_type": "stream",
     "text": [
      "root\n",
      " |-- userId: integer (nullable = true)\n",
      " |-- movieId: integer (nullable = true)\n",
      " |-- timestamp: integer (nullable = true)\n",
      " |-- gauss_normalize: double (nullable = true)\n",
      " |-- variance: double (nullable = true)\n",
      "\n"
     ]
    }
   ],
   "source": [
    "from pyspark.sql.functions import udf\n",
    "from pyspark.ml.linalg import Vectors, VectorUDT\n",
    "\n",
    "df_normalized.printSchema()\n"
   ]
  },
  {
   "cell_type": "code",
   "execution_count": 6,
   "id": "322e3d71-d64e-495b-b1a0-92808a37a6f2",
   "metadata": {},
   "outputs": [
    {
     "name": "stdout",
     "output_type": "stream",
     "text": [
      "root\n",
      " |-- userId: integer (nullable = true)\n",
      " |-- movieId: integer (nullable = true)\n",
      " |-- variance_vec: vector (nullable = true)\n",
      "\n"
     ]
    }
   ],
   "source": [
    "to_vector = udf(lambda a: Vectors.dense(a), VectorUDT())\n",
    "df_normalized = df_normalized.select(\"userId\",\"movieId\",to_vector(\"variance\").alias(\"variance_vec\"))\n",
    "df_normalized.printSchema()\n"
   ]
  },
  {
   "cell_type": "code",
   "execution_count": 7,
   "id": "4daf4ebd-a958-4843-8e3d-e4548f4940e8",
   "metadata": {},
   "outputs": [
    {
     "name": "stderr",
     "output_type": "stream",
     "text": [
      "                                                                                \r"
     ]
    },
    {
     "name": "stdout",
     "output_type": "stream",
     "text": [
      "+------+-------+-------------------+--------------------+\n",
      "|userId|movieId|       variance_vec| variance_vec_scaled|\n",
      "+------+-------+-------------------+--------------------+\n",
      "|     1|    296|[1.008488612836439]|[0.18924724586560...|\n",
      "|     1|    306|[1.008488612836439]|[0.18924724586560...|\n",
      "|     1|    307|[1.008488612836439]|[0.18924724586560...|\n",
      "|     1|    665|[1.008488612836439]|[0.18924724586560...|\n",
      "|     1|    899|[1.008488612836439]|[0.18924724586560...|\n",
      "|     1|   1088|[1.008488612836439]|[0.18924724586560...|\n",
      "|     1|   1175|[1.008488612836439]|[0.18924724586560...|\n",
      "|     1|   1217|[1.008488612836439]|[0.18924724586560...|\n",
      "|     1|   1237|[1.008488612836439]|[0.18924724586560...|\n",
      "|     1|   1250|[1.008488612836439]|[0.18924724586560...|\n",
      "|     1|   1260|[1.008488612836439]|[0.18924724586560...|\n",
      "|     1|   1653|[1.008488612836439]|[0.18924724586560...|\n",
      "|     1|   2011|[1.008488612836439]|[0.18924724586560...|\n",
      "|     1|   2012|[1.008488612836439]|[0.18924724586560...|\n",
      "|     1|   2068|[1.008488612836439]|[0.18924724586560...|\n",
      "|     1|   2161|[1.008488612836439]|[0.18924724586560...|\n",
      "|     1|   2351|[1.008488612836439]|[0.18924724586560...|\n",
      "|     1|   2573|[1.008488612836439]|[0.18924724586560...|\n",
      "|     1|   2632|[1.008488612836439]|[0.18924724586560...|\n",
      "|     1|   2692|[1.008488612836439]|[0.18924724586560...|\n",
      "+------+-------+-------------------+--------------------+\n",
      "only showing top 20 rows\n",
      "\n"
     ]
    }
   ],
   "source": [
    "from pyspark.ml.feature import MinMaxScaler\n",
    "mmScaler = MinMaxScaler(inputCol='variance_vec',outputCol='variance_vec_scaled')\n",
    "model = mmScaler.fit(df_normalized)\n",
    "model.transform(df_normalized).show()\n",
    "df_var_scaled=model.transform(df_normalized)"
   ]
  },
  {
   "cell_type": "code",
   "execution_count": 8,
   "id": "a5259232-2e4b-47a8-839f-31d19dff19d4",
   "metadata": {},
   "outputs": [
    {
     "name": "stdout",
     "output_type": "stream",
     "text": [
      "root\n",
      " |-- userId: integer (nullable = true)\n",
      " |-- movieId: integer (nullable = true)\n",
      " |-- variance_vec: vector (nullable = true)\n",
      " |-- variance_vec_scaled: vector (nullable = true)\n",
      "\n"
     ]
    }
   ],
   "source": [
    "df_var_scaled.printSchema()"
   ]
  },
  {
   "cell_type": "code",
   "execution_count": 9,
   "id": "76644da8-f604-46ee-858c-53b5f4287937",
   "metadata": {},
   "outputs": [
    {
     "name": "stdout",
     "output_type": "stream",
     "text": [
      "root\n",
      " |-- userId: integer (nullable = true)\n",
      " |-- movieId: integer (nullable = true)\n",
      " |-- rating_var: float (nullable = true)\n",
      "\n"
     ]
    }
   ],
   "source": [
    "from pyspark.sql.types import FloatType\n",
    "to_float = udf(lambda x : float(x[0]),FloatType())\n",
    "df_var_scaled = df_var_scaled.select(\"userId\",\"movieId\",to_float(\"variance_vec_scaled\").alias(\"rating_var\"))\n",
    "df_var_scaled.printSchema()"
   ]
  },
  {
   "cell_type": "code",
   "execution_count": 10,
   "id": "974201d4-313a-45be-91eb-76753b026712",
   "metadata": {},
   "outputs": [
    {
     "name": "stderr",
     "output_type": "stream",
     "text": [
      "[Stage 12:===================================================>    (12 + 1) / 13]\r"
     ]
    },
    {
     "name": "stdout",
     "output_type": "stream",
     "text": [
      "+-------+-----------------+------------------+-------------------+\n",
      "|summary|           userId|           movieId|         rating_var|\n",
      "+-------+-----------------+------------------+-------------------+\n",
      "|  count|         25000095|          25000095|           25000095|\n",
      "|   mean|81189.28115381162|21387.981943268616|0.16931442522548906|\n",
      "| stddev| 46791.7158974552| 39198.86210106045| 0.0896056697583036|\n",
      "|    min|                1|                 1|                0.0|\n",
      "|    max|           162541|            209171|                1.0|\n",
      "+-------+-----------------+------------------+-------------------+\n",
      "\n"
     ]
    },
    {
     "name": "stderr",
     "output_type": "stream",
     "text": [
      "                                                                                \r"
     ]
    }
   ],
   "source": [
    "df_var_scaled.describe().show()"
   ]
  },
  {
   "cell_type": "code",
   "execution_count": 11,
   "id": "efc7bb9b-e3ad-4f66-a567-d3cf1a97dea4",
   "metadata": {},
   "outputs": [
    {
     "name": "stderr",
     "output_type": "stream",
     "text": [
      "[Stage 15:===================================================>    (12 + 1) / 13]\r"
     ]
    },
    {
     "name": "stdout",
     "output_type": "stream",
     "text": [
      "+-------+-----------------+------------------+-------------------+\n",
      "|summary|           userId|           movieId|         rating_var|\n",
      "+-------+-----------------+------------------+-------------------+\n",
      "|  count|         25000095|          25000095|           25000095|\n",
      "|   mean|81189.28115381162|21387.981943268616|0.16931442522548906|\n",
      "| stddev| 46791.7158974552| 39198.86210106045| 0.0896056697583036|\n",
      "|    min|                1|                 1|                0.0|\n",
      "|    25%|            40511|              1197|        0.106688865|\n",
      "|    50%|            80902|              2947|         0.15228799|\n",
      "|    75%|           121553|              8623|         0.21209832|\n",
      "|    max|           162541|            209171|                1.0|\n",
      "+-------+-----------------+------------------+-------------------+\n",
      "\n"
     ]
    },
    {
     "name": "stderr",
     "output_type": "stream",
     "text": [
      "                                                                                \r"
     ]
    }
   ],
   "source": [
    "df_var_scaled.summary().show()"
   ]
  },
  {
   "cell_type": "code",
   "execution_count": null,
   "id": "97b2c893-d1b4-41eb-bf29-7fb1ac5a3e0d",
   "metadata": {},
   "outputs": [],
   "source": [
    "var_scaled_no =df_var_scaled.filter(df_var_scaled['rating_var']==0)\n",
    "var_scaled_no.count()"
   ]
  },
  {
   "cell_type": "code",
   "execution_count": null,
   "id": "8d501914-7095-4977-90c2-1705d664ea18",
   "metadata": {},
   "outputs": [],
   "source": [
    "# df_var_scaled.join(df_ratings, df_var_scaled.userId == df_ratings.userId, 'inner')\\\n",
    "# .select(df_var_scaled[\"userId\"], df_var_scaled[\"movieId\"],df_ratings[\"rating\"], df_var_scaled[\"rating_var\"])\\\n",
    "# .show()\n",
    "\n",
    "df_preference = df_var_scaled.join(df_ratings, \\\n",
    "                                   (df_var_scaled.userId == df_ratings.userId) & (df_var_scaled.movieId== df_ratings.movieId),\\\n",
    "                                   'inner')\\\n",
    ".select(df_var_scaled[\"userId\"], df_var_scaled[\"movieId\"],df_ratings[\"rating\"], df_var_scaled[\"rating_var\"])\\\n",
    ".filter((df_var_scaled['rating_var'] >= 0.1) & (df_var_scaled['rating_var'] <= 0.22))\n",
    "\n",
    "df_preference.describe().show()\n",
    "\n",
    "\n",
    "# rec.join(df_movies, rec.movieId == df_movies.movieId, 'inner')\\\n",
    "# .select(rec[\"movieId\"], rec[\"userId\"], rec[\"prediction\"], df_movies[\"title\"],df_movies[\"genres\"])\\\n",
    "# .distinct()\\\n",
    "# .orderBy(rec[\"prediction\"],ascending=False)\\\n",
    "# .show()\n"
   ]
  },
  {
   "cell_type": "code",
   "execution_count": null,
   "id": "60b6e7e6-7767-4be1-83de-39571c11b5d6",
   "metadata": {},
   "outputs": [],
   "source": [
    "df_preference.write.parquet('file:///home/yutinglin/ml-25m/df_preference.csv', mode='overwrite')\n"
   ]
  },
  {
   "cell_type": "markdown",
   "id": "8d41ef63-d7b7-433f-835c-98f8dfaacd08",
   "metadata": {
    "jp-MarkdownHeadingCollapsed": true,
    "tags": []
   },
   "source": [
    "##### Subset5 : df_after2015_pre"
   ]
  },
  {
   "cell_type": "code",
   "execution_count": null,
   "id": "8cde2cbc-05ce-440d-8f45-bfc3cbf87116",
   "metadata": {},
   "outputs": [],
   "source": [
    "#transform timestamp\n",
    "from pyspark.sql.functions import *\n",
    "from pyspark.sql.types import StringType,DoubleType,IntegerType\n",
    "\n",
    "df_prefer_year = df_pre.withColumn('year',from_unixtime(col('timestamp'),\"yyyy\"))\n"
   ]
  },
  {
   "cell_type": "code",
   "execution_count": null,
   "id": "4e92834d-30dd-4c3f-a8c7-c3a5a45e11a2",
   "metadata": {},
   "outputs": [],
   "source": [
    "df_prefer_year.show(5)"
   ]
  },
  {
   "cell_type": "code",
   "execution_count": null,
   "id": "0a1581c4-cd03-45ec-bea0-e460afe3caf6",
   "metadata": {},
   "outputs": [],
   "source": [
    "df_after2015_pre = df_prefer_year.filter(df_prefer_year['year'] >= 2015)"
   ]
  },
  {
   "cell_type": "code",
   "execution_count": null,
   "id": "54663f83-990d-44a4-9c55-e5dbb01ac842",
   "metadata": {},
   "outputs": [],
   "source": [
    "df_after2015_pre.describe().show()"
   ]
  },
  {
   "cell_type": "code",
   "execution_count": null,
   "id": "3cde5a7f-5028-46d7-8d15-e4311ec5420d",
   "metadata": {},
   "outputs": [],
   "source": [
    "df_after2015_pre.write.parquet('file:///home/yutinglin/ml-25m/df_after2015_pre.csv', mode='overwrite')\n"
   ]
  },
  {
   "cell_type": "markdown",
   "id": "9a592158-2e5f-48d8-9b49-ea7618362a4b",
   "metadata": {
    "jp-MarkdownHeadingCollapsed": true,
    "tags": []
   },
   "source": [
    "##### Subset6 : df_HF_movies_pre"
   ]
  },
  {
   "cell_type": "code",
   "execution_count": null,
   "id": "73bcadc4-96ad-4da1-b6a4-1e672c849467",
   "metadata": {},
   "outputs": [],
   "source": [
    "import pyspark.sql.functions as f\n",
    "from pyspark.sql import Window\n",
    "\n",
    "w = Window.partitionBy('movieId')\n",
    "\n",
    "df_movie_count= df_pre.select('movieId','userId','prefer',f.count('movieId').over(w).alias('count')).sort('movieId')\n",
    "# groupby('movieId').count().select('movieId',f.col('count').alias\n",
    "df_HF_movies_pre =df_movie_count.filter(df_movie_count['count']>=100)\n",
    "df_HF_movies_pre.describe().show()"
   ]
  },
  {
   "cell_type": "code",
   "execution_count": null,
   "id": "7555e6d7-3998-438b-b12b-34d075a26601",
   "metadata": {},
   "outputs": [],
   "source": [
    "df_HF_movies_pre.write.parquet('file:///home/yutinglin/ml-25m/df_HF_movies_pre.csv', mode='overwrite')\n"
   ]
  },
  {
   "cell_type": "markdown",
   "id": "9fe80fdf-4c7d-460e-b5c8-8f67e5741021",
   "metadata": {
    "jp-MarkdownHeadingCollapsed": true,
    "tags": []
   },
   "source": [
    "##### Subset7 : df_HF_users_pre"
   ]
  },
  {
   "cell_type": "code",
   "execution_count": null,
   "id": "3342ced5-ae84-451d-95a6-f95d4acc9318",
   "metadata": {},
   "outputs": [],
   "source": [
    "import pyspark.sql.functions as f\n",
    "from pyspark.sql import Window\n",
    "w = Window.partitionBy('userId')\n",
    "\n",
    "df_user_count= df_pre.select('movieId','userId','prefer',f.count('userId').over(w).alias('count')).sort('userId')\n",
    "# groupby('movieId').count().select('movieId',f.col('count').alias\n",
    "df_HF_users_pre =df_user_count.filter(df_user_count['count']>=50)\n",
    "df_HF_users_pre.describe().show()"
   ]
  },
  {
   "cell_type": "code",
   "execution_count": null,
   "id": "c69c23da-035c-4974-b788-189309feff9e",
   "metadata": {},
   "outputs": [],
   "source": [
    "df_HF_users_pre.write.parquet('file:///home/yutinglin/ml-25m/df_HF_users_pre.csv', mode='overwrite')\n"
   ]
  },
  {
   "cell_type": "markdown",
   "id": "3456f579-6ccf-41bd-a4b0-4fe0e9627eb0",
   "metadata": {
    "jp-MarkdownHeadingCollapsed": true,
    "tags": []
   },
   "source": [
    "##### Subset8 : df_preference_pre"
   ]
  },
  {
   "cell_type": "code",
   "execution_count": null,
   "id": "8689d2b7-4a38-4db9-8c10-adac20704297",
   "metadata": {},
   "outputs": [],
   "source": [
    "type(df_pre)"
   ]
  },
  {
   "cell_type": "code",
   "execution_count": null,
   "id": "e1743960-2c9b-42ae-b8fa-c62cd8a94a4e",
   "metadata": {},
   "outputs": [],
   "source": [
    "df_pre=spark.read.parquet('file:///home/yutinglin/ml-25m/df_pre.csv') \n",
    "df_pre.describe().show()"
   ]
  },
  {
   "cell_type": "code",
   "execution_count": null,
   "id": "b39fe96e-ebfc-4328-8aa9-129fbd421bb2",
   "metadata": {},
   "outputs": [],
   "source": [
    "from pyspark.sql.functions import udf\n",
    "from pyspark.ml.linalg import Vectors, VectorUDT\n",
    "\n",
    "df_pre.printSchema()\n"
   ]
  },
  {
   "cell_type": "code",
   "execution_count": null,
   "id": "67353e32-1761-48f6-97ee-546ad32d3807",
   "metadata": {},
   "outputs": [],
   "source": [
    "to_vector = udf(lambda a: Vectors.dense(a), VectorUDT())\n",
    "df_pre = df_pre.select(\"userId\",\"movieId\",'prefer',to_vector(\"variance\").alias(\"variance_vec\"))\n",
    "df_pre.printSchema()\n"
   ]
  },
  {
   "cell_type": "code",
   "execution_count": null,
   "id": "ef15f4f2-0c2e-4d35-a19d-3054e31ed847",
   "metadata": {},
   "outputs": [],
   "source": [
    "from pyspark.ml.feature import MinMaxScaler\n",
    "mmScaler = MinMaxScaler(inputCol='variance_vec',outputCol='variance_vec_scaled')\n",
    "model = mmScaler.fit(df_pre)\n",
    "model.transform(df_pre).show()\n",
    "df_var_scaled=model.transform(df_pre)"
   ]
  },
  {
   "cell_type": "code",
   "execution_count": null,
   "id": "141d98ab-2864-495b-9783-1e926541486c",
   "metadata": {},
   "outputs": [],
   "source": [
    "df_var_scaled.printSchema()"
   ]
  },
  {
   "cell_type": "code",
   "execution_count": null,
   "id": "b4d1402e-83f5-4146-b3cb-747d581c21b5",
   "metadata": {},
   "outputs": [],
   "source": [
    "from pyspark.sql.types import FloatType\n",
    "to_float = udf(lambda x : float(x[0]),FloatType())\n",
    "df_var_scaled = df_var_scaled.select(\"userId\",\"movieId\",'prefer',to_float(\"variance_vec_scaled\").alias(\"prefer_var\"))\n",
    "df_var_scaled.printSchema()"
   ]
  },
  {
   "cell_type": "code",
   "execution_count": null,
   "id": "d9fed4b8-0db4-446b-b799-d5b299d6f97d",
   "metadata": {},
   "outputs": [],
   "source": [
    "df_var_scaled.show()"
   ]
  },
  {
   "cell_type": "code",
   "execution_count": null,
   "id": "6554bf64-f6ed-4ed9-8069-14d0377a829f",
   "metadata": {},
   "outputs": [],
   "source": [
    "df_var_scaled.describe().show()"
   ]
  },
  {
   "cell_type": "code",
   "execution_count": null,
   "id": "9b154e94-e70b-48e2-814d-dace355c0a80",
   "metadata": {},
   "outputs": [],
   "source": [
    "df_var_scaled.summary().show()"
   ]
  },
  {
   "cell_type": "code",
   "execution_count": null,
   "id": "f9b1750b-ae30-4759-8e58-16e6e587bddc",
   "metadata": {},
   "outputs": [],
   "source": [
    "var_scaled_no =df_var_scaled.filter(df_var_scaled['prefer_var']==0)\n",
    "var_scaled_no.count()"
   ]
  },
  {
   "cell_type": "code",
   "execution_count": null,
   "id": "5116ae36-7666-4df2-9212-1c8812986fd2",
   "metadata": {},
   "outputs": [],
   "source": [
    "df_preference_pre = df_var_scaled.filter((df_var_scaled['prefer_var'] >= 0.87) & (df_var_scaled['prefer_var'] <= 0.93))\n",
    "\n",
    "df_preference_pre.describe().show()\n",
    "\n",
    "# join(df_pre, \\\n",
    "#                                    (df_var_scaled.userId == df_pre.userId) & (df_var_scaled.movieId== df_pre.movieId),\\\n",
    "#                                    'inner')\\\n",
    "# .select(df_var_scaled[\"userId\"], df_var_scaled[\"movieId\"],df_pre[\"prefer\"], df_var_scaled[\"prefer_var\"])\\\n"
   ]
  },
  {
   "cell_type": "code",
   "execution_count": null,
   "id": "80011354-b458-40b8-8cf4-e422380d2699",
   "metadata": {},
   "outputs": [],
   "source": [
    "df_preference_pre.write.parquet('file:///home/yutinglin/ml-25m/df_preference_pre.csv', mode='overwrite')\n"
   ]
  },
  {
   "cell_type": "markdown",
   "id": "1db84c13-4169-4b80-8a85-bd5ae3dea30c",
   "metadata": {
    "tags": []
   },
   "source": [
    "##### Model training(general)"
   ]
  },
  {
   "cell_type": "markdown",
   "id": "7acef217-a140-47ee-9434-4dcb6aed26b6",
   "metadata": {
    "jp-MarkdownHeadingCollapsed": true,
    "tags": []
   },
   "source": [
    "###### df_zscore"
   ]
  },
  {
   "cell_type": "code",
   "execution_count": 4,
   "id": "5aff572f-ad3b-4b13-a6cc-0e541c5ff183",
   "metadata": {},
   "outputs": [
    {
     "name": "stderr",
     "output_type": "stream",
     "text": [
      "                                                                                \r"
     ]
    }
   ],
   "source": [
    "(train, test) = df_zscore.randomSplit([0.8,0.2],seed=42)\n",
    "\n",
    "als= ALS(rank=35,\\\n",
    "         maxIter=20,\\\n",
    "         regParam=0.03,\\\n",
    "         userCol=\"userId\",\\\n",
    "         itemCol=\"movieId\",\\\n",
    "         ratingCol=\"zscore\",\\\n",
    "         nonnegative = True,\\\n",
    "         coldStartStrategy=\"drop\",\\\n",
    "         implicitPrefs = False)\n",
    "\n",
    "# als =ALS(maxIter=5, regParam=0.01, userCol=\"userId\", itemCol=\"movieId\", ratingCol=\"rating\", nonnegative = True)\n",
    "\n",
    "model = als.fit(train)"
   ]
  },
  {
   "cell_type": "code",
   "execution_count": 5,
   "id": "270bd703-52ab-4c63-8d0b-449c38a1dfa5",
   "metadata": {},
   "outputs": [
    {
     "name": "stderr",
     "output_type": "stream",
     "text": [
      "                                                                                \r"
     ]
    },
    {
     "name": "stdout",
     "output_type": "stream",
     "text": [
      "+------+-------+----------+--------------------+-----------+\n",
      "|userId|movieId| timestamp|              zscore| prediction|\n",
      "+------+-------+----------+--------------------+-----------+\n",
      "|     3| 175197|1566089493|-0.03191576221062093|0.043685682|\n",
      "|    12|    471|1167582388| 0.43945153123264785| 0.27573675|\n",
      "|    12|   1580|1167582669|-0.03191576221062093|0.027434805|\n",
      "|    13|   1580|1238029138|-0.03191576221062093|  0.1844796|\n",
      "|    20|   1580|1155082328| 0.43945153123264785|  0.5758398|\n",
      "|    41|   1580| 944572899| 0.43945153123264785| 0.23786783|\n",
      "|    41|   2366| 944572005| -0.5032830556538898| 0.10774833|\n",
      "|    72|    471| 982866659|  1.3821861181191855| 0.13874339|\n",
      "|    72|   1342| 980622798| 0.43945153123264785|        0.0|\n",
      "|    72|   1580| 980642551| 0.43945153123264785| 0.14990088|\n",
      "|    72|   1591| 980643638| -1.4460176425404272|        0.0|\n",
      "|    72|   1645| 980622971| 0.43945153123264785|0.038670823|\n",
      "|    72|   3918| 980623106| -0.5032830556538898|        0.0|\n",
      "|    86|   1580| 945461484| 0.43945153123264785| 0.26913488|\n",
      "|   120|   1580| 956265192|  1.3821861181191855| 0.63310283|\n",
      "|   127|  96488|1433014205|  1.3821861181191855|  0.9742464|\n",
      "|   132|   1959|1013954248| 0.43945153123264785| 0.06226367|\n",
      "|   155|   1580|1196999011| -0.9746503490971585| 0.05068651|\n",
      "|   169|   1088|1224522339|-0.03191576221062093|        0.0|\n",
      "|   175|   1580| 992403144| 0.43945153123264785| 0.11953358|\n",
      "+------+-------+----------+--------------------+-----------+\n",
      "only showing top 20 rows\n",
      "\n"
     ]
    }
   ],
   "source": [
    "pred = model.transform(test)\n",
    "\n",
    "pred.show()\n",
    "\n",
    "# pred_test = pred.filter(pred.prediction != float('nan'))"
   ]
  },
  {
   "cell_type": "code",
   "execution_count": 7,
   "id": "8d9dc0d6-0b2b-4bf5-9648-92bcf67a6e12",
   "metadata": {},
   "outputs": [
    {
     "name": "stderr",
     "output_type": "stream",
     "text": [
      "[Stage 396:======================================>                  (4 + 2) / 6]\r"
     ]
    },
    {
     "name": "stdout",
     "output_type": "stream",
     "text": [
      "RMSE:0.9125571076803415\n",
      "R square:0.16770472381390178\n"
     ]
    },
    {
     "name": "stderr",
     "output_type": "stream",
     "text": [
      "                                                                                \r"
     ]
    }
   ],
   "source": [
    "eval_rmse = RegressionEvaluator(metricName=\"rmse\", labelCol=\"zscore\", predictionCol=\"prediction\")\n",
    "eval_r2 = RegressionEvaluator(metricName=\"r2\", labelCol=\"zscore\", predictionCol=\"prediction\")\n",
    "\n",
    "rmse = eval_rmse.evaluate(pred)\n",
    "r2 = eval_r2.evaluate(pred)\n",
    "print(f\"RMSE:{rmse}\")\n",
    "print(f\"R square:{r2}\")"
   ]
  },
  {
   "cell_type": "code",
   "execution_count": null,
   "id": "a38be4a2-2b45-4f4c-bd69-16cf19da1712",
   "metadata": {},
   "outputs": [],
   "source": []
  },
  {
   "cell_type": "markdown",
   "id": "fa26ab83-0ac9-488f-8c18-d500300044e2",
   "metadata": {
    "jp-MarkdownHeadingCollapsed": true,
    "tags": []
   },
   "source": [
    "###### df_ratings_new"
   ]
  },
  {
   "cell_type": "code",
   "execution_count": 11,
   "id": "08cd1e84-4f86-47c2-b2f2-1275784680e3",
   "metadata": {},
   "outputs": [
    {
     "name": "stderr",
     "output_type": "stream",
     "text": [
      "                                                                                \r"
     ]
    }
   ],
   "source": [
    "(train, test) = df_ratings_new.randomSplit([0.8,0.2],seed=42)\n",
    "\n",
    "als= ALS(rank=35,\\\n",
    "         maxIter=20,\\\n",
    "         regParam=0.03,\\\n",
    "         userCol=\"userId\",\\\n",
    "         itemCol=\"movieId\",\\\n",
    "         ratingCol=\"rating_new\",\\\n",
    "         nonnegative = True,\\\n",
    "         coldStartStrategy=\"drop\",\\\n",
    "         implicitPrefs = False)\n",
    "\n",
    "# als =ALS(maxIter=5, regParam=0.01, userCol=\"userId\", itemCol=\"movieId\", ratingCol=\"rating\", nonnegative = True)\n",
    "\n",
    "model = als.fit(train)"
   ]
  },
  {
   "cell_type": "code",
   "execution_count": 12,
   "id": "b26de6c9-2c89-4cb1-9785-b335f66e99d8",
   "metadata": {},
   "outputs": [
    {
     "name": "stderr",
     "output_type": "stream",
     "text": [
      "[Stage 498:===============================================>         (5 + 1) / 6]\r"
     ]
    },
    {
     "name": "stdout",
     "output_type": "stream",
     "text": [
      "+------+-------+------+----------+----------+----------+\n",
      "|userId|movieId|rating| timestamp|rating_new|prediction|\n",
      "+------+-------+------+----------+----------+----------+\n",
      "|     1|    307|   5.0|1147868828|       1.0|0.77766305|\n",
      "|     1|   1175|   3.5|1147868826|       0.7| 0.7663948|\n",
      "|     1|   1237|   5.0|1147868839|       1.0|0.79489815|\n",
      "|     1|   2012|   2.5|1147868068|       0.5| 0.5883669|\n",
      "|     1|   2692|   5.0|1147869100|       1.0|0.76634437|\n",
      "|     1|   3949|   5.0|1147868678|       1.0|0.77087057|\n",
      "|     1|   4973|   4.5|1147869080|       0.9| 0.8004116|\n",
      "|     1|   5912|   3.0|1147878698|       0.6|0.77288365|\n",
      "|     1|   7318|   2.0|1147879850|       0.4|0.57639796|\n",
      "|     1|   7323|   3.5|1147869119|       0.7| 0.7598611|\n",
      "|     1|   7327|   3.5|1147868855|       0.7| 0.7910724|\n",
      "|     1|   7365|   4.0|1147869033|       0.8| 0.7385984|\n",
      "|     1|   7937|   3.0|1147878055|       0.6|0.76165444|\n",
      "|     1|   8014|   3.5|1147869155|       0.7| 0.7924493|\n",
      "|     1|   8786|   4.0|1147877853|       0.8|0.76892996|\n",
      "|     1|  32591|   5.0|1147879538|       1.0| 0.6904516|\n",
      "|     3|      1|   4.0|1439472215|       0.8|0.77376956|\n",
      "|     3|    111|   4.0|1484753849|       0.8|0.79052776|\n",
      "|     3|    214|   5.0|1484753888|       1.0|0.78572845|\n",
      "|     3|    293|   5.0|1484753912|       1.0|  0.828062|\n",
      "+------+-------+------+----------+----------+----------+\n",
      "only showing top 20 rows\n",
      "\n"
     ]
    },
    {
     "name": "stderr",
     "output_type": "stream",
     "text": [
      "                                                                                \r"
     ]
    }
   ],
   "source": [
    "pred = model.transform(test)\n",
    "\n",
    "pred.show()\n",
    "\n",
    "# pred_test = pred.filter(pred.prediction != float('nan'))"
   ]
  },
  {
   "cell_type": "code",
   "execution_count": 13,
   "id": "fafbe2c6-1dc3-43cd-89bb-694e19a18709",
   "metadata": {},
   "outputs": [
    {
     "name": "stderr",
     "output_type": "stream",
     "text": [
      "[Stage 905:>                                                        (0 + 2) / 2]\r"
     ]
    },
    {
     "name": "stdout",
     "output_type": "stream",
     "text": [
      "RMSE:0.16732388624301475\n",
      "R square:0.3781462887623034\n"
     ]
    },
    {
     "name": "stderr",
     "output_type": "stream",
     "text": [
      "                                                                                \r"
     ]
    }
   ],
   "source": [
    "eval_rmse = RegressionEvaluator(metricName=\"rmse\", labelCol=\"rating_new\", predictionCol=\"prediction\")\n",
    "eval_r2 = RegressionEvaluator(metricName=\"r2\", labelCol=\"rating_new\", predictionCol=\"prediction\")\n",
    "\n",
    "rmse = eval_rmse.evaluate(pred)\n",
    "r2 = eval_r2.evaluate(pred)\n",
    "print(f\"RMSE:{rmse}\")\n",
    "print(f\"R square:{r2}\")"
   ]
  },
  {
   "cell_type": "markdown",
   "id": "9413cd44-cdde-456d-a929-f3455e8d8af9",
   "metadata": {
    "jp-MarkdownHeadingCollapsed": true,
    "tags": []
   },
   "source": [
    "###### df_boxcox"
   ]
  },
  {
   "cell_type": "code",
   "execution_count": 15,
   "id": "cc8a0dbb-eb66-40ac-866e-5eccabbc8c2c",
   "metadata": {},
   "outputs": [
    {
     "name": "stderr",
     "output_type": "stream",
     "text": [
      "                                                                                \r"
     ]
    }
   ],
   "source": [
    "(train, test) = df_boxcox.randomSplit([0.8,0.2],seed=42)\n",
    "\n",
    "als= ALS(rank=35,\\\n",
    "         maxIter=20,\\\n",
    "         regParam=0.03,\\\n",
    "         userCol=\"userId\",\\\n",
    "         itemCol=\"movieId\",\\\n",
    "         ratingCol=\"rc_bc\",\\\n",
    "         nonnegative = True,\\\n",
    "         coldStartStrategy=\"drop\",\\\n",
    "         implicitPrefs = False)\n",
    "\n",
    "# als =ALS(maxIter=5, regParam=0.01, userCol=\"userId\", itemCol=\"movieId\", ratingCol=\"rating\", nonnegative = True)\n",
    "\n",
    "model_ = als.fit(train)"
   ]
  },
  {
   "cell_type": "code",
   "execution_count": 16,
   "id": "3aa593da-1141-4d63-a222-7b3210368c1d",
   "metadata": {},
   "outputs": [
    {
     "name": "stderr",
     "output_type": "stream",
     "text": [
      "[Stage 1005:==============================================>         (5 + 1) / 6]\r"
     ]
    },
    {
     "name": "stdout",
     "output_type": "stream",
     "text": [
      "+------+-------+------------------+----------+\n",
      "|userId|movieId|             rc_bc|prediction|\n",
      "+------+-------+------------------+----------+\n",
      "|     1|    307| 7.563974611605411|  3.985095|\n",
      "|     1|   1175| 4.006240099607991|  7.159772|\n",
      "|     1|   1237| 7.563974611605411| 6.0973177|\n",
      "|     1|   2012|2.0799605771334155|  2.837972|\n",
      "|     1|   2692| 7.563974611605411| 7.5876455|\n",
      "|     1|   3949| 7.563974611605411|  4.739518|\n",
      "|     1|   4973| 6.295084573613697|  7.661487|\n",
      "|     1|   5912|2.9950060072720857| 5.3836765|\n",
      "|     1|   7318| 1.268483561272075| 2.5669513|\n",
      "|     1|   7323| 4.006240099607991| 4.7378273|\n",
      "|     1|   7327| 4.006240099607991|  4.497752|\n",
      "|     1|   7365| 5.107848112348889|  4.410076|\n",
      "|     1|   7937|2.9950060072720857|  5.786151|\n",
      "|     1|   8014| 4.006240099607991| 5.2872214|\n",
      "|     1|   8786| 5.107848112348889|  4.243331|\n",
      "|     1|  32591| 7.563974611605411|  4.325614|\n",
      "|     3|      1| 5.107848112348889|  4.761226|\n",
      "|     3|    111| 5.107848112348889|  5.883011|\n",
      "|     3|    214| 7.563974611605411| 6.0639944|\n",
      "|     3|    293| 7.563974611605411|  6.366641|\n",
      "+------+-------+------------------+----------+\n",
      "only showing top 20 rows\n",
      "\n"
     ]
    },
    {
     "name": "stderr",
     "output_type": "stream",
     "text": [
      "                                                                                \r"
     ]
    }
   ],
   "source": [
    "pred = model_.transform(test)\n",
    "\n",
    "pred.show()\n",
    "\n",
    "# pred_test = pred.filter(pred.prediction != float('nan'))"
   ]
  },
  {
   "cell_type": "code",
   "execution_count": 17,
   "id": "e71fba90-1756-4718-b725-060dd96d3f49",
   "metadata": {},
   "outputs": [
    {
     "name": "stderr",
     "output_type": "stream",
     "text": [
      "[Stage 1412:>                                                       (0 + 2) / 2]\r"
     ]
    },
    {
     "name": "stdout",
     "output_type": "stream",
     "text": [
      "RMSE:1.5836645170756538\n",
      "R square:0.431305916025155\n"
     ]
    },
    {
     "name": "stderr",
     "output_type": "stream",
     "text": [
      "                                                                                \r"
     ]
    }
   ],
   "source": [
    "eval_rmse = RegressionEvaluator(metricName=\"rmse\", labelCol=\"rc_bc\", predictionCol=\"prediction\")\n",
    "eval_r2 = RegressionEvaluator(metricName=\"r2\", labelCol=\"rc_bc\", predictionCol=\"prediction\")\n",
    "\n",
    "rmse = eval_rmse.evaluate(pred)\n",
    "r2 = eval_r2.evaluate(pred)\n",
    "print(f\"RMSE:{rmse}\")\n",
    "print(f\"R square:{r2}\")"
   ]
  },
  {
   "cell_type": "markdown",
   "id": "bb854b4d-09c2-4992-a8f9-94b308f2c87b",
   "metadata": {
    "jp-MarkdownHeadingCollapsed": true,
    "tags": []
   },
   "source": [
    "###### df_ratings"
   ]
  },
  {
   "cell_type": "code",
   "execution_count": null,
   "id": "7131a127-d4ce-4607-82bc-27a9877feab9",
   "metadata": {},
   "outputs": [],
   "source": [
    "(train, test) = df_ratings.randomSplit([0.8,0.2],seed=42)\n",
    "\n",
    "als= ALS(rank=35,\\\n",
    "         maxIter=20,\\\n",
    "         regParam=0.03,\\\n",
    "         userCol=\"userId\",\\\n",
    "         itemCol=\"movieId\",\\\n",
    "         ratingCol=\"rating\",\\\n",
    "         nonnegative = True,\\\n",
    "         coldStartStrategy=\"drop\",\\\n",
    "         implicitPrefs = False)\n",
    "\n",
    "# als =ALS(maxIter=5, regParam=0.01, userCol=\"userId\", itemCol=\"movieId\", ratingCol=\"rating\", nonnegative = True)\n",
    "\n",
    "model = als.fit(train)"
   ]
  },
  {
   "cell_type": "code",
   "execution_count": null,
   "id": "15a15593-f5eb-403f-8270-cf0b75381091",
   "metadata": {},
   "outputs": [],
   "source": [
    "pred = model.transform(test)\n",
    "\n",
    "pred.show()\n",
    "\n",
    "# pred_test = pred.filter(pred.prediction != float('nan'))"
   ]
  },
  {
   "cell_type": "code",
   "execution_count": null,
   "id": "d9a9e82c-3555-40ee-847b-227ec0e3e29e",
   "metadata": {},
   "outputs": [],
   "source": [
    "eval_rmse = RegressionEvaluator(metricName=\"rmse\", labelCol=\"rating\", predictionCol=\"prediction\")\n",
    "eval_r2 = RegressionEvaluator(metricName=\"r2\", labelCol=\"rating\", predictionCol=\"prediction\")\n",
    "\n",
    "rmse = eval_rmse.evaluate(pred)\n",
    "r2 = eval_r2.evaluate(pred)\n",
    "print(f\"RMSE:{rmse}\")\n",
    "print(f\"R square:{r2}\")"
   ]
  },
  {
   "cell_type": "code",
   "execution_count": null,
   "id": "4ed2d2c8-7cd7-4b0c-adb4-fbedd4a47f92",
   "metadata": {},
   "outputs": [],
   "source": [
    "# df_ratings_recs_10 = model.recommendForAllUsers(10)\n",
    "# df_ratings_recs_10.printSchema()\n",
    "df_ratings_user_recs_10 = df_ratings_recs_10.select(\"userId\",\"recommendations.movieId\", \"recommendations.rating\").toPandas()\n"
   ]
  },
  {
   "cell_type": "code",
   "execution_count": null,
   "id": "028d3e27-09e2-4d60-9f2c-f12aece8fed8",
   "metadata": {},
   "outputs": [],
   "source": [
    "df_ratings_user_recs_10\n",
    "df_ratings_user_recs_10.to_csv(\"0731df_ratings_user_recs_10.csv\")"
   ]
  },
  {
   "cell_type": "code",
   "execution_count": null,
   "id": "5b55aac0-785e-4356-9968-279aa37d731b",
   "metadata": {},
   "outputs": [],
   "source": [
    "df_ratings_recs_30 = model.recommendForAllUsers(30)\n",
    "# user_recs.describe().show()\n",
    "# user_recs_30.show(truncate=False)\n",
    "df_ratings_recs_30.printSchema()\n",
    "#get all user recommendation df\n",
    "df_ratings_user_recs_30 = df_ratings_recs_30.select(\"userId\",\"recommendations.movieId\", \"recommendations.rating\").toPandas()\n",
    "df_ratings_user_recs_30\n",
    "df_ratings_user_recs_30.to_csv(\"0731df_ratings_user_recs_30.csv\")"
   ]
  },
  {
   "cell_type": "code",
   "execution_count": null,
   "id": "77937da4-c37b-4d63-9239-6f6c23350fec",
   "metadata": {},
   "outputs": [],
   "source": [
    "df_ratings_recs_50 = model.recommendForAllUsers(50)\n",
    "# user_recs.describe().show()\n",
    "# user_recs_30.show(truncate=False)\n",
    "df_ratings_recs_50.printSchema()\n",
    "#get all user recommendation df\n",
    "df_ratings_user_recs_50 = df_ratings_recs_50.select(\"userId\",\"recommendations.movieId\", \"recommendations.rating\").toPandas()\n",
    "df_ratings_user_recs_50\n",
    "df_ratings_user_recs_50.to_csv(\"0731df_ratings_user_recs_50.csv\")"
   ]
  },
  {
   "cell_type": "code",
   "execution_count": null,
   "id": "c4668415-f4dd-4741-a24b-a2dbd93aeee0",
   "metadata": {},
   "outputs": [],
   "source": [
    "model.write().save(\"file:///home/yutinglin/ml-25m/ALS_df_ratings0731\")"
   ]
  },
  {
   "cell_type": "code",
   "execution_count": null,
   "id": "e5c7a7b7-ce07-4512-86c7-643db60980f0",
   "metadata": {},
   "outputs": [],
   "source": [
    "user_recs_30 = model.recommendForAllUsers(30)\n",
    "# user_recs.describe().show()\n",
    "# user_recs_30.show(truncate=False)\n",
    "user_recs_30.printSchema()\n",
    "#get all user recommendation df\n",
    "df_user_recs_30 = user_recs_30.select(\"userId\",\"recommendations.movieId\", \"recommendations.rating\").toPandas()\n",
    "df_user_recs_30\n",
    "df_user_recs_30.to_csv(\"0730df_user_recs_30.csv\")"
   ]
  },
  {
   "cell_type": "code",
   "execution_count": null,
   "id": "0158e1c1-d2ea-49c1-aa0e-5e5073208e11",
   "metadata": {},
   "outputs": [],
   "source": [
    "user_1 = test.filter(test['userId'] == 1 ).select(['movieId','userId'])\n",
    "user_1.show()"
   ]
  },
  {
   "cell_type": "code",
   "execution_count": null,
   "id": "81597bbb-d031-4f81-9210-937b75252fb9",
   "metadata": {},
   "outputs": [],
   "source": [
    "rec = model.transform(user_1) \n",
    "rec.orderBy(\"Prediction\",ascending=False).show() "
   ]
  },
  {
   "cell_type": "code",
   "execution_count": null,
   "id": "8ec1dff8-8a8e-4fd3-baf8-f85794820c23",
   "metadata": {},
   "outputs": [],
   "source": [
    "rec.join(df_movies, rec.movieId == df_movies.movieId, 'inner')\\\n",
    ".select(rec[\"movieId\"], rec[\"userId\"], rec[\"prediction\"], df_movies[\"title\"],df_movies[\"genres\"])\\\n",
    ".distinct()\\\n",
    ".orderBy(rec[\"prediction\"],ascending=False)\\\n",
    ".show()\n",
    "\n",
    "# .orderBy(rec[\"prediction\"],ascending=False)\\\n",
    "# .sort(rec[\"prediction\"].desc())\\"
   ]
  },
  {
   "cell_type": "markdown",
   "id": "ff7d7ecb-d445-4004-b90c-334f94b378d6",
   "metadata": {
    "jp-MarkdownHeadingCollapsed": true,
    "tags": []
   },
   "source": [
    "###### df_after2015"
   ]
  },
  {
   "cell_type": "code",
   "execution_count": null,
   "id": "4ae39daa-98df-4499-a37c-7076c897d865",
   "metadata": {},
   "outputs": [],
   "source": [
    "df_after2015=spark.read.parquet('file:///home/yutinglin/ml-25m/df_after2015.csv') "
   ]
  },
  {
   "cell_type": "code",
   "execution_count": null,
   "id": "9eb11750-6c60-4c31-93c7-82f744495625",
   "metadata": {},
   "outputs": [],
   "source": [
    "df_after2015.describe().show()"
   ]
  },
  {
   "cell_type": "code",
   "execution_count": null,
   "id": "d377442d-e5b8-4e03-9564-7865087b103b",
   "metadata": {},
   "outputs": [],
   "source": [
    "(train, test) = df_after2015.randomSplit([0.7,0.3],seed=42)\n",
    "\n",
    "als_2= ALS(maxIter=5,\\\n",
    "         regParam=0.01,\\\n",
    "         userCol=\"userId\",\\\n",
    "         itemCol=\"movieId\",\\\n",
    "         ratingCol=\"rating\",\\\n",
    "         nonnegative = True,\\\n",
    "         coldStartStrategy=\"drop\",\\\n",
    "         implicitPrefs = False)\n",
    "\n",
    "# als_2 =ALS(maxIter=5, regParam=0.01, userCol=\"userId\", itemCol=\"movieId\", ratingCol=\"rating\", nonnegative = True)\n",
    "\n",
    "model_2 = als_2.fit(train)"
   ]
  },
  {
   "cell_type": "code",
   "execution_count": null,
   "id": "0da066a1-5975-47fe-b09e-746eb6a05581",
   "metadata": {},
   "outputs": [],
   "source": [
    "pred_2 = model_2.transform(test)\n",
    "\n",
    "pred_2.show()\n",
    "\n",
    "pred_test_2 = pred_2.filter(pred_2.prediction != float('nan'))"
   ]
  },
  {
   "cell_type": "code",
   "execution_count": null,
   "id": "ccaf1685-304d-4e5c-ace6-1a008311ab50",
   "metadata": {},
   "outputs": [],
   "source": [
    "eval_rmse = RegressionEvaluator(metricName=\"rmse\", labelCol=\"rating\", predictionCol=\"prediction\")\n",
    "eval_r2 = RegressionEvaluator(metricName=\"r2\", labelCol=\"rating\", predictionCol=\"prediction\")\n",
    "\n",
    "rmse_2 = eval_rmse.evaluate(pred_test_2)\n",
    "r2_2 = eval_r2.evaluate(pred_test_2)\n",
    "print(f\"RMSE:{rmse_2}\")\n",
    "print(f\"R square:{r2_2}\")"
   ]
  },
  {
   "cell_type": "markdown",
   "id": "ca4c7f27-8e62-4c1a-ab04-4ab885794b4d",
   "metadata": {
    "tags": []
   },
   "source": [
    "###### df_HF_movies"
   ]
  },
  {
   "cell_type": "code",
   "execution_count": 23,
   "id": "66f4dc33-8e48-43a8-b306-fa29d72d3c9b",
   "metadata": {},
   "outputs": [],
   "source": [
    "df_HF_movies=spark.read.parquet('file:///home/yutinglin/ml-25m/df_HF_movies.csv') "
   ]
  },
  {
   "cell_type": "code",
   "execution_count": 24,
   "id": "40f3244b-f3d5-41fc-bae0-9d82899b4cdf",
   "metadata": {},
   "outputs": [
    {
     "name": "stderr",
     "output_type": "stream",
     "text": [
      "[Stage 1809:=====================================>                  (2 + 1) / 3]\r"
     ]
    },
    {
     "name": "stdout",
     "output_type": "stream",
     "text": [
      "+-------+------------------+-----------------+------------------+------------------+\n",
      "|summary|           movieId|           userId|            rating|             count|\n",
      "+-------+------------------+-----------------+------------------+------------------+\n",
      "|  count|          24443380|         24443380|          24443380|          24443380|\n",
      "|   mean|19699.994239585525|81216.30976935268| 3.543231950736764|15263.862510503866|\n",
      "| stddev| 36767.52046795476|46808.40630677884|1.0572653075919871|16469.706188953154|\n",
      "|    min|                 1|                1|               0.5|               100|\n",
      "|    max|            205383|           162541|               5.0|             81491|\n",
      "+-------+------------------+-----------------+------------------+------------------+\n",
      "\n"
     ]
    },
    {
     "name": "stderr",
     "output_type": "stream",
     "text": [
      "                                                                                \r"
     ]
    }
   ],
   "source": [
    "df_HF_movies.describe().show()"
   ]
  },
  {
   "cell_type": "code",
   "execution_count": 26,
   "id": "f75f8e54-ef2a-47cb-be20-75cd5738e071",
   "metadata": {},
   "outputs": [
    {
     "name": "stderr",
     "output_type": "stream",
     "text": [
      "                                                                                \r"
     ]
    }
   ],
   "source": [
    "(train, test) = df_HF_movies.randomSplit([0.8,0.2],seed=42)\n",
    "\n",
    "als_3= ALS(rank=35,\\\n",
    "         maxIter=20,\\\n",
    "         regParam=0.03,\\\n",
    "         userCol=\"userId\",\\\n",
    "         itemCol=\"movieId\",\\\n",
    "         ratingCol=\"rating\",\\\n",
    "         nonnegative = True,\\\n",
    "         coldStartStrategy=\"drop\",\\\n",
    "         implicitPrefs = False)\n",
    "\n",
    "# als_3 =ALS(maxIter=5, regParam=0.01, userCol=\"userId\", itemCol=\"movieId\", ratingCol=\"rating\", nonnegative = True)\n",
    "\n",
    "model_3 = als_3.fit(train)"
   ]
  },
  {
   "cell_type": "code",
   "execution_count": 27,
   "id": "b1528122-57a4-40a8-98da-297b7a98db63",
   "metadata": {},
   "outputs": [
    {
     "name": "stderr",
     "output_type": "stream",
     "text": [
      "                                                                                \r"
     ]
    },
    {
     "name": "stdout",
     "output_type": "stream",
     "text": [
      "+-------+------+------+-----+----------+\n",
      "|movieId|userId|rating|count|prediction|\n",
      "+-------+------+------+-----+----------+\n",
      "|    306|     1|   3.5| 7058| 4.6171393|\n",
      "|    665|     1|   5.0| 1269|  3.969222|\n",
      "|   2351|     1|   4.5| 1290| 3.4489627|\n",
      "|   4422|     1|   3.0|  780| 3.8485675|\n",
      "|   4973|     1|   4.5|34320| 4.8760133|\n",
      "|   6370|     1|   4.5| 1220| 3.7720926|\n",
      "|   6377|     1|   4.0|34712| 3.9659152|\n",
      "|  27266|     1|   4.5| 1375| 3.5505352|\n",
      "|  27721|     1|   3.0| 2117| 3.7209132|\n",
      "|     32|     3|   4.5|47054|  4.274567|\n",
      "|    172|     3|   4.0|12156|  3.364945|\n",
      "|    480|     3|   2.0|64144| 3.4031963|\n",
      "|    593|     3|   4.0|74127| 4.1176667|\n",
      "|    745|     3|   5.0|12241|  4.024233|\n",
      "|   1196|     3|   4.0|57361|  4.177161|\n",
      "|   1214|     3|   4.0|36357| 4.0862503|\n",
      "|   1270|     3|   3.5|49595|  3.641727|\n",
      "|   1676|     3|   3.5|17245| 3.4691608|\n",
      "|   2021|     3|   4.0| 8990| 3.9909253|\n",
      "|   2105|     3|   3.0|10277| 3.7466965|\n",
      "+-------+------+------+-----+----------+\n",
      "only showing top 20 rows\n",
      "\n"
     ]
    }
   ],
   "source": [
    "pred_3 = model_3.transform(test)\n",
    "\n",
    "pred_3.show()\n",
    "\n",
    "# pred_test_3 = pred_3.filter(pred_3.prediction != float('nan'))"
   ]
  },
  {
   "cell_type": "code",
   "execution_count": 29,
   "id": "30bdac3c-64e9-44fa-a8ec-885cb6a2dddf",
   "metadata": {},
   "outputs": [
    {
     "name": "stderr",
     "output_type": "stream",
     "text": [
      "[Stage 2313:>                                                       (0 + 2) / 2]\r"
     ]
    },
    {
     "name": "stdout",
     "output_type": "stream",
     "text": [
      "RMSE:0.7747568179286938\n",
      "R square:0.4631616565849058\n"
     ]
    },
    {
     "name": "stderr",
     "output_type": "stream",
     "text": [
      "                                                                                \r"
     ]
    }
   ],
   "source": [
    "eval_rmse = RegressionEvaluator(metricName=\"rmse\", labelCol=\"rating\", predictionCol=\"prediction\")\n",
    "eval_r2 = RegressionEvaluator(metricName=\"r2\", labelCol=\"rating\", predictionCol=\"prediction\")\n",
    "\n",
    "rmse_3 = eval_rmse.evaluate(pred_3)\n",
    "r2_3 = eval_r2.evaluate(pred_3)\n",
    "print(f\"RMSE:{rmse_3}\")\n",
    "print(f\"R square:{r2_3}\")"
   ]
  },
  {
   "cell_type": "markdown",
   "id": "89621485-bcd8-4982-8b01-41c230c6e5cc",
   "metadata": {
    "jp-MarkdownHeadingCollapsed": true,
    "tags": []
   },
   "source": [
    "###### df_HF_users"
   ]
  },
  {
   "cell_type": "code",
   "execution_count": null,
   "id": "12efcc19-94da-4f53-a013-94d2ea4eb106",
   "metadata": {},
   "outputs": [],
   "source": [
    "df_HF_users=spark.read.parquet('file:///home/yutinglin/ml-25m/df_HF_users.csv') "
   ]
  },
  {
   "cell_type": "code",
   "execution_count": null,
   "id": "2babeafc-c7bb-498b-a06c-6774e6e0ea27",
   "metadata": {},
   "outputs": [],
   "source": [
    "df_HF_users.describe().show()"
   ]
  },
  {
   "cell_type": "code",
   "execution_count": null,
   "id": "fbbf174c-8de4-482e-92d9-b4ae733c2260",
   "metadata": {},
   "outputs": [],
   "source": [
    "(train, test) = df_HF_users.randomSplit([0.8,0.2],seed=42)\n",
    "\n",
    "\n",
    "als_4= ALS(rank=35,\\\n",
    "           maxIter=20,\\\n",
    "         regParam=0.03,\\\n",
    "         userCol=\"userId\",\\\n",
    "         itemCol=\"movieId\",\\\n",
    "         ratingCol=\"rating\",\\\n",
    "         nonnegative = True,\\\n",
    "         coldStartStrategy=\"drop\",\\\n",
    "         implicitPrefs = False)\n",
    "\n",
    "# als_4 =ALS(maxIter=5, regParam=0.01, userCol=\"userId\", itemCol=\"movieId\", ratingCol=\"rating\", nonnegative = True)\n",
    "\n",
    "model_4 = als_4.fit(train)"
   ]
  },
  {
   "cell_type": "code",
   "execution_count": null,
   "id": "23cc29c4-ca92-46ac-8e21-548d595927b6",
   "metadata": {},
   "outputs": [],
   "source": [
    "user_recs = model_4.recommendForAllUsers(10)\n",
    "user_recs.show(truncate=False)\n"
   ]
  },
  {
   "cell_type": "code",
   "execution_count": null,
   "id": "d25966eb-568a-4c69-a2f0-d59be461c112",
   "metadata": {},
   "outputs": [],
   "source": [
    "user_recs.printSchema()\n"
   ]
  },
  {
   "cell_type": "code",
   "execution_count": null,
   "id": "84fa769d-e1bc-4361-9cb0-410179ccfedd",
   "metadata": {},
   "outputs": [],
   "source": [
    "# user_recs.printSchema()\n",
    "df_user_recs = user_recs.select(\"userId\",\"recommendations.movieId\", \"recommendations.rating\").toPandas()\n",
    "df_user_recs"
   ]
  },
  {
   "cell_type": "code",
   "execution_count": null,
   "id": "0e5de628-9171-4b25-bb56-9670e5fe320a",
   "metadata": {},
   "outputs": [],
   "source": [
    "df_user_recs.to_csv(\"0730df_user_recs_10.csv\")"
   ]
  },
  {
   "cell_type": "code",
   "execution_count": null,
   "id": "98cde76b-1e8e-48f8-bfda-b2a81d28fe8e",
   "metadata": {},
   "outputs": [],
   "source": [
    "user_recs_30.printSchema()\n"
   ]
  },
  {
   "cell_type": "code",
   "execution_count": null,
   "id": "3a002e53-16cb-401f-b1b4-327aeba5ac81",
   "metadata": {},
   "outputs": [],
   "source": [
    "user_recs_30 = model_4.recommendForAllUsers(30)\n",
    "# user_recs.describe().show()\n",
    "# user_recs_30.show(truncate=False)\n",
    "user_recs_30.printSchema()\n",
    "#get all user recommendation df\n",
    "df_user_recs_30 = user_recs_30.select(\"userId\",\"recommendations.movieId\", \"recommendations.rating\").toPandas()\n",
    "df_user_recs_30\n",
    "df_user_recs_30.to_csv(\"0730df_user_recs_30.csv\")"
   ]
  },
  {
   "cell_type": "code",
   "execution_count": null,
   "id": "c7d13a3e-dc31-4338-a92f-b82caf55b680",
   "metadata": {},
   "outputs": [],
   "source": [
    "user_recs_50 = model_4.recommendForAllUsers(50)\n",
    "# user_recs.describe().show()\n",
    "# user_recs_30.show(truncate=False)\n",
    "user_recs_50.printSchema()\n",
    "#get all user recommendation df\n",
    "df_user_recs_50 = user_recs_50.select(\"userId\",\"recommendations.movieId\", \"recommendations.rating\").toPandas()\n",
    "df_user_recs_50\n",
    "df_user_recs_50.to_csv(\"0730df_user_recs_50.csv\")"
   ]
  },
  {
   "cell_type": "code",
   "execution_count": null,
   "id": "3d4e10b1-11f8-4e1d-ab50-8f94918a3bd6",
   "metadata": {},
   "outputs": [],
   "source": [
    "user_recs = model_4.recommendForAllUsers(10)\n",
    "# user_recs.describe().show()\n",
    "user_recs.show(truncate=False)\n",
    "user_recs.printSchema()\n",
    "#get all user recommendation df\n",
    "df_user_recs = user_recs.select(\"userId\",\"recommendations.movieId\", \"recommendations.rating\").toPandas()\n",
    "df_user_recs\n",
    "df_user_recs.to_csv(\"df_user_recs.csv\")"
   ]
  },
  {
   "cell_type": "code",
   "execution_count": null,
   "id": "a1d3d001-da3d-44ad-984f-21a52181eb08",
   "metadata": {},
   "outputs": [],
   "source": [
    "model_4.write().save(\"file:///home/yutinglin/ml-25m/ALS_df_HF_users0730\")"
   ]
  },
  {
   "cell_type": "code",
   "execution_count": null,
   "id": "09035af1-cc42-43c1-905e-b2a71110c538",
   "metadata": {},
   "outputs": [],
   "source": [
    "\n",
    "\n",
    "pred_4 = model_4.transform(test)\n",
    "\n",
    "pred_4.show()\n",
    "\n",
    "\n",
    "# pred_test_4 = pred_4.filter(pred_4.prediction != float('nan'))\n",
    "\n",
    "# pred_4_countna =pred_4.filter(pred_4['prediction']!= float('nan'))\n",
    "# pred_4_countna.describe().show()\n",
    "# pred_4.filter(pred_4.prediction == float('nan')).count.show()"
   ]
  },
  {
   "cell_type": "code",
   "execution_count": null,
   "id": "6f80e920-acd5-4844-9319-77003e4c9298",
   "metadata": {},
   "outputs": [],
   "source": [
    "eval_rmse = RegressionEvaluator(metricName=\"rmse\", labelCol=\"rating\", predictionCol=\"prediction\")\n",
    "eval_r2 = RegressionEvaluator(metricName=\"r2\", labelCol=\"rating\", predictionCol=\"prediction\")\n",
    "\n",
    "rmse_4 = eval_rmse.evaluate(pred_4)\n",
    "r2_4 = eval_r2.evaluate(pred_4)\n",
    "print(f\"RMSE:{rmse_4}\")\n",
    "print(f\"R square:{r2_4}\")\n",
    "\n",
    "\n",
    "# eval_rmse = RegressionEvaluator(metricName=\"rmse\", labelCol=\"rating\", predictionCol=\"prediction\")\n",
    "# eval_r2 = RegressionEvaluator(metricName=\"r2\", labelCol=\"rating\", predictionCol=\"prediction\")\n",
    "\n",
    "# rmse_4 = eval_rmse.evaluate(pred_test_4)\n",
    "# r2_4 = eval_r2.evaluate(pred_test_4)\n",
    "# print(f\"RMSE:{rmse_4}\")\n",
    "# print(f\"R square:{r2_4}\")\n"
   ]
  },
  {
   "cell_type": "markdown",
   "id": "bd24b1ee-123c-4488-a1d4-e4b1d631f3f6",
   "metadata": {
    "jp-MarkdownHeadingCollapsed": true,
    "tags": []
   },
   "source": [
    "###### df_random_cut"
   ]
  },
  {
   "cell_type": "code",
   "execution_count": null,
   "id": "4c2ca86a-c3b9-4e7f-b24f-eee1f8e2bb22",
   "metadata": {},
   "outputs": [],
   "source": [
    "df_random_cut = spark.read.csv(\"file:///home/yutinglin/ml-25m/ratings_new.csv\", inferSchema=True, header=True)\n",
    "\n",
    "# df_ratings.show()\n",
    "df_random_cut.describe().show()"
   ]
  },
  {
   "cell_type": "code",
   "execution_count": null,
   "id": "14a0498d-18bc-4c56-bced-332472ecf070",
   "metadata": {},
   "outputs": [],
   "source": [
    "from pyspark.ml.recommendation import ALS, ALSModel\n",
    "\n",
    "model = ALSModel.load(\"file:///home/yutinglin/ml-25m/ALS_0719\")"
   ]
  },
  {
   "cell_type": "code",
   "execution_count": null,
   "id": "0f4310aa-e170-411d-b481-7777b771dcf4",
   "metadata": {},
   "outputs": [],
   "source": [
    "(train, test) = df_random_cut.randomSplit([0.7,0.3],seed=42)\n",
    "pred = model.transform(test)"
   ]
  },
  {
   "cell_type": "code",
   "execution_count": null,
   "id": "b98c5ba8-1c5d-4353-8d55-3795654b0552",
   "metadata": {},
   "outputs": [],
   "source": [
    "eval_rmse = RegressionEvaluator(metricName=\"rmse\", labelCol=\"rating\", predictionCol=\"prediction\")\n",
    "eval_r2 = RegressionEvaluator(metricName=\"r2\", labelCol=\"rating\", predictionCol=\"prediction\")\n",
    "\n",
    "rmse_4 = eval_rmse.evaluate(pred)\n",
    "r2_4 = eval_r2.evaluate(pred)\n",
    "print(f\"RMSE:{rmse_4}\")\n",
    "print(f\"R square:{r2_4}\")"
   ]
  },
  {
   "cell_type": "code",
   "execution_count": null,
   "id": "058d5b90-3149-484f-bc7b-61d19401b116",
   "metadata": {},
   "outputs": [],
   "source": [
    "pred.describe().show()"
   ]
  },
  {
   "cell_type": "code",
   "execution_count": null,
   "id": "aacf7279-5d22-4195-873e-788d61a01e4d",
   "metadata": {},
   "outputs": [],
   "source": [
    "user_5 = test.filter(test['userId'] == 5 ).select(['movieId','userId'])\n",
    "# user_54493.show() #8\n",
    "# user_2.show()\n",
    "# user_3.show()\n",
    "# user_1.show() #30\n",
    "\n",
    "user_5.show()\n",
    "\n",
    "\n",
    "rec = model.transform(user_5) \n",
    "rec.describe().show()\n",
    "# rec.orderBy(\"Prediction\",ascending=False).show() \n",
    "# rec.join(df_movies, rec.movieId == df_movies.movieId, 'inner')\\\n",
    "# .select(rec[\"movieId\"], rec[\"userId\"], rec[\"prediction\"], df_movies[\"title\"],df_movies[\"genres\"])\\\n",
    "# .distinct()\\\n",
    "# .orderBy(rec[\"prediction\"],ascending=False)\\\n",
    "# .show()"
   ]
  },
  {
   "cell_type": "code",
   "execution_count": null,
   "id": "352ac537-587a-4b73-8ac4-3f55e7446a0f",
   "metadata": {},
   "outputs": [],
   "source": [
    "(train, test) = df_HF_users.randomSplit([0.8,0.2],seed=42)\n",
    "\n",
    "\n",
    "als_4= ALS(rank=45,\\\n",
    "           maxIter=5,\\\n",
    "         regParam=0.06,\\\n",
    "         userCol=\"userId\",\\\n",
    "         itemCol=\"movieId\",\\\n",
    "         ratingCol=\"rating\",\\\n",
    "         nonnegative = True,\\\n",
    "         coldStartStrategy=\"drop\",\\\n",
    "         implicitPrefs = False)\n",
    "\n",
    "# als_4 =ALS(maxIter=5, regParam=0.01, userCol=\"userId\", itemCol=\"movieId\", ratingCol=\"rating\", nonnegative = True)\n",
    "\n",
    "model_4 = als_4.fit(train)"
   ]
  },
  {
   "cell_type": "code",
   "execution_count": null,
   "id": "887a484b-fae8-4fe5-8b6a-812826dd4ae5",
   "metadata": {},
   "outputs": [],
   "source": [
    "\n",
    "\n",
    "pred_4 = model_4.transform(test)\n",
    "\n",
    "pred_4.show()\n",
    "\n",
    "pred_test_4 = pred_4.filter(pred_4.prediction != float('nan'))"
   ]
  },
  {
   "cell_type": "code",
   "execution_count": null,
   "id": "a057eaf5-0541-47e3-b5ea-399cfad138f2",
   "metadata": {},
   "outputs": [],
   "source": [
    "eval_rmse = RegressionEvaluator(metricName=\"rmse\", labelCol=\"rating\", predictionCol=\"prediction\")\n",
    "eval_r2 = RegressionEvaluator(metricName=\"r2\", labelCol=\"rating\", predictionCol=\"prediction\")\n",
    "\n",
    "rmse_4 = eval_rmse.evaluate(pred_test_4)\n",
    "r2_4 = eval_r2.evaluate(pred_test_4)\n",
    "print(f\"RMSE:{rmse_4}\")\n",
    "print(f\"R square:{r2_4}\")\n"
   ]
  },
  {
   "cell_type": "code",
   "execution_count": null,
   "id": "0b1d623d-31d2-49bc-a3fa-f0337b90b639",
   "metadata": {},
   "outputs": [],
   "source": []
  },
  {
   "cell_type": "markdown",
   "id": "cf58d133-fe11-4ebf-a0b4-e76d4d730cab",
   "metadata": {
    "tags": []
   },
   "source": [
    "###### df_preference"
   ]
  },
  {
   "cell_type": "code",
   "execution_count": 18,
   "id": "9c74ca91-7381-4e5c-a11d-7d87d195e74e",
   "metadata": {},
   "outputs": [
    {
     "name": "stderr",
     "output_type": "stream",
     "text": [
      "                                                                                \r"
     ]
    }
   ],
   "source": [
    "df_preference=spark.read.parquet('file:///home/yutinglin/ml-25m/df_preference.csv') "
   ]
  },
  {
   "cell_type": "code",
   "execution_count": 19,
   "id": "709640b8-a0ca-4241-958f-991054faca23",
   "metadata": {},
   "outputs": [
    {
     "name": "stderr",
     "output_type": "stream",
     "text": [
      "[Stage 1414:>                                                       (0 + 2) / 3]\r"
     ]
    },
    {
     "name": "stdout",
     "output_type": "stream",
     "text": [
      "+-------+-----------------+------------------+------------------+--------------------+\n",
      "|summary|           userId|           movieId|            rating|          rating_var|\n",
      "+-------+-----------------+------------------+------------------+--------------------+\n",
      "|  count|         13991750|          13991750|          13991750|            13991750|\n",
      "|   mean|81123.15314345954|19100.233544838924|3.5519471116908177| 0.15357257778576625|\n",
      "| stddev|46871.26435112156| 37084.39010315628|0.9943638843782955|0.033202895399596456|\n",
      "|    min|                1|                 1|               0.5|                 0.1|\n",
      "|    max|           162537|            209171|               5.0|          0.21999626|\n",
      "+-------+-----------------+------------------+------------------+--------------------+\n",
      "\n"
     ]
    },
    {
     "name": "stderr",
     "output_type": "stream",
     "text": [
      "                                                                                \r"
     ]
    }
   ],
   "source": [
    "df_preference.describe().show()"
   ]
  },
  {
   "cell_type": "code",
   "execution_count": 20,
   "id": "cd228bda-7894-4641-bafe-9975888297bf",
   "metadata": {},
   "outputs": [
    {
     "name": "stderr",
     "output_type": "stream",
     "text": [
      "                                                                                \r"
     ]
    }
   ],
   "source": [
    "(train, test) = df_preference.randomSplit([0.8,0.2],seed=42)\n",
    "\n",
    "\n",
    "als_5= ALS(rank=30,\\\n",
    "           maxIter=20,\\\n",
    "           regParam=0.03,\\\n",
    "           userCol=\"userId\",\\\n",
    "           itemCol=\"movieId\",\\\n",
    "           ratingCol=\"rating\",\\\n",
    "           nonnegative = True,\\\n",
    "           coldStartStrategy=\"drop\",\\\n",
    "           implicitPrefs = False)\n",
    "\n",
    "# als_5= ALS(maxIter=5,\\\n",
    "#          regParam=0.01,\\\n",
    "#          userCol=\"userId\",\\\n",
    "#          itemCol=\"movieId\",\\\n",
    "#          ratingCol=\"rating\",\\\n",
    "#          nonnegative = True,\\\n",
    "#          coldStartStrategy=\"drop\",\\\n",
    "#          implicitPrefs = False)\n",
    "\n",
    "# als_5 =ALS(maxIter=5, regParam=0.01, userCol=\"userId\", itemCol=\"movieId\", ratingCol=\"rating\", nonnegative = True)\n",
    "\n",
    "model_5 = als_5.fit(train)"
   ]
  },
  {
   "cell_type": "code",
   "execution_count": 21,
   "id": "7039126a-ba58-4ab1-97a2-51f9493c6525",
   "metadata": {},
   "outputs": [
    {
     "name": "stderr",
     "output_type": "stream",
     "text": [
      "[Stage 1560:>               (0 + 2) / 2][Stage 1562:>               (0 + 0) / 2]\r"
     ]
    },
    {
     "name": "stdout",
     "output_type": "stream",
     "text": [
      "+------+-------+------+-----------+----------+\n",
      "|userId|movieId|rating| rating_var|prediction|\n",
      "+------+-------+------+-----------+----------+\n",
      "|    31|   1580|   3.0| 0.10436722| 2.3142946|\n",
      "|    41|   1580|   4.0| 0.13040838|  3.856693|\n",
      "|    57|   1580|   3.0| 0.16570607| 3.4143286|\n",
      "|    91|   8638|   3.0|  0.1430564|  3.488011|\n",
      "|    91|  96488|   2.0|  0.1430564|  4.266459|\n",
      "|    93|  44022|   4.0| 0.20356104| 3.2890494|\n",
      "|   132|   1238|   5.0| 0.18421452| 3.3713605|\n",
      "|   132|   1959|   4.0| 0.18421452|  3.356423|\n",
      "|   164|   8638|   4.0|   0.125008|  4.562225|\n",
      "|   177|   1580|   3.0|  0.1530282| 3.8028038|\n",
      "|   196|   6620|   5.0| 0.11311774|  4.093434|\n",
      "|   202|   1580|   3.5|  0.1576263| 2.6592438|\n",
      "|   207|   8638|   3.0| 0.10863083| 3.3166416|\n",
      "|   262|    471|   4.0| 0.16335155| 2.6916325|\n",
      "|   285|    471|   4.0| 0.18446364| 2.6473346|\n",
      "|   316|   1580|   4.5|0.114998415| 4.3148727|\n",
      "|   318|    471|   4.0| 0.11349618| 3.9058995|\n",
      "|   322|   1645|   4.0| 0.13772674|  3.766097|\n",
      "|   359|   3175|   4.0| 0.17852142| 3.6561546|\n",
      "|   368|   1580|   3.5| 0.14364229| 3.7528603|\n",
      "+------+-------+------+-----------+----------+\n",
      "only showing top 20 rows\n",
      "\n"
     ]
    },
    {
     "name": "stderr",
     "output_type": "stream",
     "text": [
      "                                                                                \r"
     ]
    }
   ],
   "source": [
    "pred_5 = model_5.transform(test)\n",
    "\n",
    "pred_5.show()\n",
    "\n",
    "# pred_test_5 = pred_5.filter(pred_5.prediction != float('nan'))"
   ]
  },
  {
   "cell_type": "code",
   "execution_count": null,
   "id": "222ddd67-a217-4abf-97f8-e41ffcf9a87d",
   "metadata": {},
   "outputs": [],
   "source": [
    "user_1 = test.filter(test['userId'] == 1 ).select(['movieId','userId'])\n",
    "# user_54493.show() #8\n",
    "# user_2.show()\n",
    "# user_3.show()\n",
    "user_1.show() #30\n",
    "#user_5.show() #23\n",
    "\n",
    "# user_5.show()\n",
    "\n",
    "\n",
    "rec = model_5.transform(user_1) \n",
    "rec.describe().show()\n",
    "\n",
    "rec.join(df_movies, rec.movieId == df_movies.movieId, 'inner')\\\n",
    ".select(rec[\"movieId\"], rec[\"userId\"], rec[\"prediction\"], df_movies[\"title\"],df_movies[\"genres\"])\\\n",
    ".distinct()\\\n",
    ".orderBy(rec[\"prediction\"],ascending=False)\\\n",
    ".show()"
   ]
  },
  {
   "cell_type": "code",
   "execution_count": 22,
   "id": "c67b4106-7988-4240-b142-92abae6aa0b6",
   "metadata": {},
   "outputs": [
    {
     "name": "stderr",
     "output_type": "stream",
     "text": [
      "[Stage 1807:============================>                           (2 + 2) / 4]\r"
     ]
    },
    {
     "name": "stdout",
     "output_type": "stream",
     "text": [
      "RMSE:0.744103950046645\n",
      "R square:0.4390072936685451\n"
     ]
    },
    {
     "name": "stderr",
     "output_type": "stream",
     "text": [
      "                                                                                \r"
     ]
    }
   ],
   "source": [
    "eval_rmse = RegressionEvaluator(metricName=\"rmse\", labelCol=\"rating\", predictionCol=\"prediction\")\n",
    "eval_r2 = RegressionEvaluator(metricName=\"r2\", labelCol=\"rating\", predictionCol=\"prediction\")\n",
    "\n",
    "rmse_5 = eval_rmse.evaluate(pred_5)\n",
    "r2_5 = eval_r2.evaluate(pred_5)\n",
    "print(f\"RMSE:{rmse_5}\")\n",
    "print(f\"R square:{r2_5}\")\n"
   ]
  },
  {
   "cell_type": "code",
   "execution_count": null,
   "id": "afe3bd35-4b46-4d8b-9c59-2ff19d40107b",
   "metadata": {},
   "outputs": [],
   "source": [
    "pred_5.describe().show()"
   ]
  },
  {
   "cell_type": "code",
   "execution_count": null,
   "id": "08fca264-aa4c-48e1-a860-bc9eb64426e3",
   "metadata": {},
   "outputs": [],
   "source": [
    "user_recs = model_5.recommendForAllUsers(10)\n",
    "# user_recs.describe().show()\n",
    "user_recs.show(truncate=False)\n",
    "user_recs.printSchema()\n",
    "#get all user recommendation df\n",
    "df_user_recs = user_recs.select(\"userId\",\"recommendations.movieId\", \"recommendations.rating\").toPandas()\n",
    "df_user_recs\n",
    "df_user_recs.to_csv(\"df_user_recs.csv\")"
   ]
  },
  {
   "cell_type": "code",
   "execution_count": null,
   "id": "53293aa8-3d99-4304-b5d6-b2fac8fd4bfb",
   "metadata": {},
   "outputs": [],
   "source": [
    "user_recs.printSchema()"
   ]
  },
  {
   "cell_type": "code",
   "execution_count": null,
   "id": "5e97c76d-973b-43c7-87a1-f153a510646f",
   "metadata": {},
   "outputs": [],
   "source": []
  },
  {
   "cell_type": "code",
   "execution_count": null,
   "id": "edb17736-9069-4502-949d-e0817b7e4e2d",
   "metadata": {},
   "outputs": [],
   "source": [
    "df_user_recs_1 = user_recs.where(user_recs.userId == userId).select(\"userId\",\"recommendations.movieId\", \"recommendations.rating\").toPandas()\n",
    "df_user_recs_1"
   ]
  },
  {
   "cell_type": "code",
   "execution_count": null,
   "id": "94fe33b7-79e4-4c59-b0f3-89490bc9415f",
   "metadata": {},
   "outputs": [],
   "source": [
    "#get all user recommendation df\n",
    "df_user_recs = user_recs.select(\"userId\",\"recommendations.movieId\", \"recommendations.rating\").toPandas()\n",
    "df_user_recs"
   ]
  },
  {
   "cell_type": "code",
   "execution_count": null,
   "id": "6990a8f6-c5b3-4de4-9a0b-0c11e5b1a251",
   "metadata": {},
   "outputs": [],
   "source": [
    "df_user_recs.to_csv(\"df_user_recs.csv\")"
   ]
  },
  {
   "cell_type": "code",
   "execution_count": null,
   "id": "482b78ca-c0b6-4681-80e4-8eda2bc07467",
   "metadata": {},
   "outputs": [],
   "source": [
    "\n",
    "#     user_recs.where(user_recs.userId == userId).select(\"recommendations.movieId\", \"recommendations.rating\").collect()\n",
    "\n",
    "# df_user_recs = user_recs.where(user_recs.userId == userId).select(\"userId\",\"recommendations.movieId\", \"recommendations.rating\").toPandas()\n",
    "\n",
    "def users_recommendation(userId):\n",
    "    recs = df_user_recs[df_user_recs['userId']==userId]\n",
    "    movieid = recs['movieId'][1]\n",
    "    rating = recs['rating'][1]\n",
    "    rec_user = pd.DataFrame(movieid, columns = [\"movieId\"])\n",
    "    rec_user[\"rating\"] = rating\n",
    "    return rec_user\n",
    "\n",
    "\n",
    "user5 = users_recommendation(5)    \n",
    "user5    \n",
    "# df_user_recs.head()\n",
    "\n",
    "# userId\n",
    "# for i in user_recs.userId:\n",
    "#     user1 = user_recs.where(user_recs.userId == i).select(\"recommendations.movieId\", \"recommendations.rating\").toPandas()\n",
    "#     user1.head()"
   ]
  },
  {
   "cell_type": "code",
   "execution_count": null,
   "id": "639e2786-e6b5-4e67-8d50-e239b9aab7fe",
   "metadata": {},
   "outputs": [],
   "source": [
    "# rec_list = range(11)\n",
    "# movieId=[]\n",
    "# movieId.append(user1['movieId'][0])\n",
    "# for i in range(10):\n",
    "# type(user1['movieId'][0])\n",
    "# print(movieId)\n",
    "\n",
    "\n",
    "movieid = pd.Series(df_user_recs['movieId'][0])\n",
    "rating = pd.Series(df_user_recs['rating'][0])\n",
    "\n",
    "rec_matrix = pd.DataFrame(movieid, columns = [\"movieId\"])\n",
    "rec_matrix[\"rating\"] = rating\n",
    "\n",
    "rec_matrix\n",
    "# movieid\n",
    "# rating\n",
    "#     movie_rec = user1['movieId'][0][i]\n",
    "#first rec movieId \n",
    "# user1['movieId'][0]\n",
    "#first rec movie rating\n",
    "# user1['rating'][0][0]"
   ]
  },
  {
   "cell_type": "code",
   "execution_count": null,
   "id": "385c029a-9bfe-4e0b-998c-e3e3687a9573",
   "metadata": {},
   "outputs": [],
   "source": [
    "df_user_recs.describe()\n",
    "# type(userId)"
   ]
  },
  {
   "cell_type": "code",
   "execution_count": null,
   "id": "bf8b90fa-8b25-4ed3-88b7-636d0cce652d",
   "metadata": {},
   "outputs": [],
   "source": [
    "\n",
    "# import pandas as pd\n",
    "\n",
    "\n",
    "# def get_recs_for_users(recs):\n",
    "#     recs = recs.select(\"userId\",\"recommendations.movieId\",\"recommendations.rating\")\n",
    "#     users = recs.select(\"userId\").toPandas()\n",
    "#     movies = recs.select(\"movieId\").toPandas()\n",
    "#     ratings = recs.select(\"rating\").toPandas()\n",
    "#     ratings_matrix = pd.DataFrame(users, columns = [\"userId\"])\n",
    "#     ratings_matrix[\"movieId\"] = movies\n",
    "#     ratings_matrix[\"ratings\"] = ratings\n",
    "#     return ratings_matrix\n",
    "\n",
    "# ratings_matrix = get_recs_for_users(user_recs)\n",
    "\n",
    "# ratings_matrix.head()\n",
    "# user_recs\n"
   ]
  },
  {
   "cell_type": "code",
   "execution_count": null,
   "id": "f36799d5-c98a-4b8d-9b91-b47b1ab26506",
   "metadata": {},
   "outputs": [],
   "source": [
    "# def get_recs_for_users(recs):\n",
    "#     recs = recs.select(\"recommendations.movieId\",\"recommendations.rating\")\n",
    "#     movies = recs.select(\"movieId\").toPandas().iloc[0,0]\n",
    "#     ratings = recs.select(\"rating\").toPandas().iloc[0,0]\n",
    "#     ratings_matrix = pd.DataFrame(movies, columns = [\"movieId\"])\n",
    "#     ratings_matrix[\"ratings\"] = ratings\n",
    "#     ratings_matrix_ps = spark.createDataFrame(ratings_matrix)\n",
    "#     return ratings_matrix_ps"
   ]
  },
  {
   "cell_type": "markdown",
   "id": "38c9300b-cfb7-49a7-8e5c-09e6d06ddb79",
   "metadata": {
    "jp-MarkdownHeadingCollapsed": true,
    "tags": []
   },
   "source": [
    "###### df_pre"
   ]
  },
  {
   "cell_type": "code",
   "execution_count": null,
   "id": "51a67175-1c09-40e5-8932-c3bb33e9e02d",
   "metadata": {},
   "outputs": [],
   "source": [
    "(train, test) = df_pre.randomSplit([0.7,0.3],seed=42)\n",
    "\n",
    "als_6= ALS(maxIter=5,\\\n",
    "         regParam=0.01,\\\n",
    "         userCol=\"userId\",\\\n",
    "         itemCol=\"movieId\",\\\n",
    "         ratingCol=\"prefer\",\\\n",
    "         nonnegative = True,\\\n",
    "         coldStartStrategy=\"drop\",\\\n",
    "         implicitPrefs = False)\n",
    "\n",
    "model_6 = als_6.fit(train)"
   ]
  },
  {
   "cell_type": "code",
   "execution_count": null,
   "id": "30ffd2d2-f300-42c0-a748-6ea85fbdd62a",
   "metadata": {},
   "outputs": [],
   "source": [
    "pred_6 = model_6.transform(test)\n",
    "\n",
    "pred_6.show()\n",
    "\n",
    "pred_test_6 = pred_6.filter(pred_6.prediction != float('nan'))"
   ]
  },
  {
   "cell_type": "code",
   "execution_count": null,
   "id": "5272aec1-3124-4ab8-a7e0-229a4aa14b59",
   "metadata": {},
   "outputs": [],
   "source": [
    "# pred_6.show(100)"
   ]
  },
  {
   "cell_type": "code",
   "execution_count": null,
   "id": "80c23e71-30a8-450a-b195-8087eb93e494",
   "metadata": {},
   "outputs": [],
   "source": [
    "eval_rmse = RegressionEvaluator(metricName=\"rmse\", labelCol=\"prefer\", predictionCol=\"prediction\")\n",
    "eval_r2 = RegressionEvaluator(metricName=\"r2\", labelCol=\"prefer\", predictionCol=\"prediction\")\n",
    "\n",
    "rmse_6 = eval_rmse.evaluate(pred_test_6)\n",
    "r2_6 = eval_r2.evaluate(pred_test_6)\n",
    "print(f\"RMSE:{rmse_6}\")\n",
    "print(f\"R square:{r2_6}\")"
   ]
  },
  {
   "cell_type": "markdown",
   "id": "99f84149-a342-421c-b98e-be28c1c53b7a",
   "metadata": {
    "jp-MarkdownHeadingCollapsed": true,
    "tags": []
   },
   "source": [
    "###### df_after2015_pre"
   ]
  },
  {
   "cell_type": "code",
   "execution_count": null,
   "id": "204aae9a-93a7-47de-845e-c7eb4ae4f24e",
   "metadata": {},
   "outputs": [],
   "source": [
    "df_after2015_pre=spark.read.parquet('file:///home/yutinglin/ml-25m/df_after2015_pre.csv') "
   ]
  },
  {
   "cell_type": "code",
   "execution_count": null,
   "id": "f9b79ba4-abc3-4ef3-a2ce-0c7ff58bf5a6",
   "metadata": {},
   "outputs": [],
   "source": [
    "df_after2015_pre.describe().show()"
   ]
  },
  {
   "cell_type": "code",
   "execution_count": null,
   "id": "29ce1e11-356d-4db7-a85a-8c11c1c4bd1c",
   "metadata": {},
   "outputs": [],
   "source": [
    "(train, test) = df_after2015_pre.randomSplit([0.7,0.3],seed=42)\n",
    "\n",
    "als_7= ALS(maxIter=5,\\\n",
    "         regParam=0.01,\\\n",
    "         userCol=\"userId\",\\\n",
    "         itemCol=\"movieId\",\\\n",
    "         ratingCol=\"prefer\",\\\n",
    "         nonnegative = True,\\\n",
    "         coldStartStrategy=\"drop\",\\\n",
    "         implicitPrefs = False)\n",
    "\n",
    "# als_7 =ALS(maxIter=5, regParam=0.01, userCol=\"userId\", itemCol=\"movieId\", ratingCol=\"rating\", nonnegative = True)\n",
    "\n",
    "model_7 = als_7.fit(train)"
   ]
  },
  {
   "cell_type": "code",
   "execution_count": null,
   "id": "22357caa-098d-4cf5-a68f-ed3e44860a41",
   "metadata": {},
   "outputs": [],
   "source": [
    "pred_7 = model_7.transform(test)\n",
    "\n",
    "pred_7.show()\n",
    "\n",
    "pred_test_7 = pred_7.filter(pred_7.prediction != float('nan'))"
   ]
  },
  {
   "cell_type": "code",
   "execution_count": null,
   "id": "2afcad2b-26de-4850-b43e-e66a49ac0c2b",
   "metadata": {},
   "outputs": [],
   "source": [
    "eval_rmse = RegressionEvaluator(metricName=\"rmse\", labelCol=\"prefer\", predictionCol=\"prediction\")\n",
    "eval_r2 = RegressionEvaluator(metricName=\"r2\", labelCol=\"prefer\", predictionCol=\"prediction\")\n",
    "\n",
    "rmse_7 = eval_rmse.evaluate(pred_test_7)\n",
    "r2_7 = eval_r2.evaluate(pred_test_7)\n",
    "print(f\"RMSE:{rmse_7}\")\n",
    "print(f\"R square:{r2_7}\")"
   ]
  },
  {
   "cell_type": "markdown",
   "id": "697a1095-35d0-4c48-aeda-a21b6820ff08",
   "metadata": {
    "jp-MarkdownHeadingCollapsed": true,
    "tags": []
   },
   "source": [
    "###### df_HF_movies_pre"
   ]
  },
  {
   "cell_type": "code",
   "execution_count": null,
   "id": "13b09449-b9fa-468b-901f-78be5ff369a0",
   "metadata": {},
   "outputs": [],
   "source": [
    "df_HF_movies_pre=spark.read.parquet('file:///home/yutinglin/ml-25m/df_HF_movies_pre.csv') "
   ]
  },
  {
   "cell_type": "code",
   "execution_count": null,
   "id": "cff2abc2-4b2a-4259-a884-a561a58af3c8",
   "metadata": {},
   "outputs": [],
   "source": [
    "df_HF_movies_pre.describe().show()"
   ]
  },
  {
   "cell_type": "code",
   "execution_count": null,
   "id": "18767eb3-e1c7-4942-92f5-9e5caf120ee8",
   "metadata": {},
   "outputs": [],
   "source": [
    "(train, test) = df_HF_movies_pre.randomSplit([0.7,0.3],seed=42)\n",
    "\n",
    "als_8= ALS(maxIter=5,\\\n",
    "         regParam=0.01,\\\n",
    "         userCol=\"userId\",\\\n",
    "         itemCol=\"movieId\",\\\n",
    "         ratingCol=\"prefer\",\\\n",
    "         nonnegative = True,\\\n",
    "         coldStartStrategy=\"drop\",\\\n",
    "         implicitPrefs = False)\n",
    "\n",
    "# als_8 =ALS(maxIter=5, regParam=0.01, userCol=\"userId\", itemCol=\"movieId\", ratingCol=\"rating\", nonnegative = True)\n",
    "\n",
    "model_8 = als_8.fit(train)"
   ]
  },
  {
   "cell_type": "code",
   "execution_count": null,
   "id": "3f3a462a-920c-40b5-8432-3b8699637eed",
   "metadata": {},
   "outputs": [],
   "source": [
    "pred_8 = model_8.transform(test)\n",
    "\n",
    "pred_8.show()\n",
    "\n",
    "pred_test_8 = pred_8.filter(pred_8.prediction != float('nan'))"
   ]
  },
  {
   "cell_type": "code",
   "execution_count": null,
   "id": "9e721dee-e053-496a-b675-23b67b8a0abd",
   "metadata": {},
   "outputs": [],
   "source": [
    "eval_rmse = RegressionEvaluator(metricName=\"rmse\", labelCol=\"prefer\", predictionCol=\"prediction\")\n",
    "eval_r2 = RegressionEvaluator(metricName=\"r2\", labelCol=\"prefer\", predictionCol=\"prediction\")\n",
    "\n",
    "rmse_8 = eval_rmse.evaluate(pred_test_8)\n",
    "r2_8 = eval_r2.evaluate(pred_test_8)\n",
    "print(f\"RMSE:{rmse_8}\")\n",
    "print(f\"R square:{r2_8}\")"
   ]
  },
  {
   "cell_type": "markdown",
   "id": "a8834c00-7c5d-47fa-be2b-d760803ceb32",
   "metadata": {
    "jp-MarkdownHeadingCollapsed": true,
    "tags": []
   },
   "source": [
    "###### df_HF_users_pre"
   ]
  },
  {
   "cell_type": "code",
   "execution_count": null,
   "id": "c6229651-87ae-47e9-892f-cafe6b23e445",
   "metadata": {},
   "outputs": [],
   "source": [
    "df_HF_users_pre=spark.read.parquet('file:///home/yutinglin/ml-25m/df_HF_users_pre.csv') "
   ]
  },
  {
   "cell_type": "code",
   "execution_count": null,
   "id": "82d4fbbd-c331-48d4-9123-de1b3ae4d67e",
   "metadata": {},
   "outputs": [],
   "source": [
    "df_HF_users_pre.describe().show()"
   ]
  },
  {
   "cell_type": "code",
   "execution_count": null,
   "id": "d1347be5-489b-4485-a0df-d51f9cfcc5eb",
   "metadata": {},
   "outputs": [],
   "source": [
    "(train, test) = df_HF_users_pre.randomSplit([0.7,0.3],seed=42)\n",
    "\n",
    "als_9= ALS(maxIter=5,\\\n",
    "         regParam=0.01,\\\n",
    "         userCol=\"userId\",\\\n",
    "         itemCol=\"movieId\",\\\n",
    "         ratingCol=\"prefer\",\\\n",
    "         nonnegative = True,\\\n",
    "         coldStartStrategy=\"drop\",\\\n",
    "         implicitPrefs = False)\n",
    "\n",
    "# als_9 =ALS(maxIter=5, regParam=0.01, userCol=\"userId\", itemCol=\"movieId\", ratingCol=\"rating\", nonnegative = True)\n",
    "\n",
    "model_9 = als_9.fit(train)"
   ]
  },
  {
   "cell_type": "code",
   "execution_count": null,
   "id": "cc58776e-a988-42de-8fad-c2fd1c8a0132",
   "metadata": {},
   "outputs": [],
   "source": [
    "pred_9 = model_9.transform(test)\n",
    "\n",
    "pred_9.show()\n",
    "\n",
    "pred_test_9 = pred_9.filter(pred_9.prediction != float('nan'))"
   ]
  },
  {
   "cell_type": "code",
   "execution_count": null,
   "id": "bc6d1c41-20f9-46a6-beb9-fc686fa347eb",
   "metadata": {},
   "outputs": [],
   "source": [
    "eval_rmse = RegressionEvaluator(metricName=\"rmse\", labelCol=\"prefer\", predictionCol=\"prediction\")\n",
    "eval_r2 = RegressionEvaluator(metricName=\"r2\", labelCol=\"prefer\", predictionCol=\"prediction\")\n",
    "\n",
    "rmse_9 = eval_rmse.evaluate(pred_test_9)\n",
    "r2_9 = eval_r2.evaluate(pred_test_9)\n",
    "print(f\"RMSE:{rmse_9}\")\n",
    "print(f\"R square:{r2_9}\")"
   ]
  },
  {
   "cell_type": "markdown",
   "id": "fd2d8151-4446-453d-860a-954b5c8c6741",
   "metadata": {
    "jp-MarkdownHeadingCollapsed": true,
    "tags": []
   },
   "source": [
    "###### df_preference_pre"
   ]
  },
  {
   "cell_type": "code",
   "execution_count": null,
   "id": "48bfadfd-e311-4c2d-95fb-c8376e8c9521",
   "metadata": {},
   "outputs": [],
   "source": [
    "df_preference_pre=spark.read.parquet('file:///home/yutinglin/ml-25m/df_preference_pre.csv') "
   ]
  },
  {
   "cell_type": "code",
   "execution_count": null,
   "id": "218e623f-442a-4c53-80d6-a9c49050c973",
   "metadata": {},
   "outputs": [],
   "source": [
    "df_preference_pre.describe().show()"
   ]
  },
  {
   "cell_type": "code",
   "execution_count": null,
   "id": "bf9d6d4c-404a-491f-ab5e-a67c24504ffe",
   "metadata": {},
   "outputs": [],
   "source": [
    "(train, test) = df_preference_pre.randomSplit([0.7,0.3],seed=42)\n",
    "\n",
    "als_10= ALS(maxIter=5,\\\n",
    "         regParam=0.01,\\\n",
    "         userCol=\"userId\",\\\n",
    "         itemCol=\"movieId\",\\\n",
    "         ratingCol=\"prefer\",\\\n",
    "         nonnegative = True,\\\n",
    "         coldStartStrategy=\"drop\",\\\n",
    "         implicitPrefs = False)\n",
    "\n",
    "# als_10 =ALS(maxIter=5, regParam=0.01, userCol=\"userId\", itemCol=\"movieId\", ratingCol=\"rating\", nonnegative = True)\n",
    "\n",
    "model_10 = als_10.fit(train)"
   ]
  },
  {
   "cell_type": "code",
   "execution_count": null,
   "id": "73f1be43-69aa-4e39-9cfd-7ee211d90da9",
   "metadata": {},
   "outputs": [],
   "source": [
    "pred_10 = model_10.transform(test)\n",
    "\n",
    "pred_10.show()\n",
    "\n",
    "pred_test_10 = pred_10.filter(pred_10.prediction != float('nan'))"
   ]
  },
  {
   "cell_type": "code",
   "execution_count": null,
   "id": "990064b9-0584-4419-99d7-f219fc4ef2a3",
   "metadata": {},
   "outputs": [],
   "source": [
    "eval_rmse = RegressionEvaluator(metricName=\"rmse\", labelCol=\"prefer\", predictionCol=\"prediction\")\n",
    "eval_r2 = RegressionEvaluator(metricName=\"r2\", labelCol=\"prefer\", predictionCol=\"prediction\")\n",
    "\n",
    "rmse_10 = eval_rmse.evaluate(pred_test_10)\n",
    "r2_10 = eval_r2.evaluate(pred_test_10)\n",
    "print(f\"RMSE:{rmse_10}\")\n",
    "print(f\"R square:{r2_10}\")"
   ]
  },
  {
   "cell_type": "code",
   "execution_count": null,
   "id": "e1c94435-9a48-4a8f-8264-0c177fc6b896",
   "metadata": {},
   "outputs": [],
   "source": []
  },
  {
   "cell_type": "code",
   "execution_count": null,
   "id": "f3237beb-4222-4ace-9c04-76c91ab4f329",
   "metadata": {},
   "outputs": [],
   "source": [
    "#only rec 30 moives for a specific user\n",
    "rec.orderBy(\"Prediction\",ascending=False).describe().show()  "
   ]
  },
  {
   "cell_type": "code",
   "execution_count": null,
   "id": "6d5f38ee-f372-4470-b31d-0158b02af5c6",
   "metadata": {},
   "outputs": [],
   "source": [
    "df_ratings.join(df_movies, df_ratings.movieId == df_movies.movieId, 'inner')\\\n",
    ".filter(df_ratings[\"userId\"]==1).sort(df_ratings[\"rating\"].desc()).select(df_ratings[\"movieId\"], df_ratings[\"rating\"], df_movies[\"title\"])\\\n",
    ".distinct().show(truncate=False)"
   ]
  },
  {
   "cell_type": "code",
   "execution_count": null,
   "id": "a43598e2-56c4-4a83-aec1-21b65abb01e9",
   "metadata": {},
   "outputs": [],
   "source": []
  },
  {
   "cell_type": "code",
   "execution_count": null,
   "id": "5ebc6936-a20e-4b24-92bc-b1574b99e75f",
   "metadata": {},
   "outputs": [],
   "source": []
  },
  {
   "cell_type": "code",
   "execution_count": null,
   "id": "35a760bb-1ccf-4be7-b6fd-2cb2d932f02e",
   "metadata": {},
   "outputs": [],
   "source": [
    "\n",
    "data = [('James','','Smith','1991-04-01','M',3000),\n",
    "  ('Michael','Rose','','2000-05-19','M',4000),\n",
    "  ('Robert','','Williams','1978-09-05','M',4000),\n",
    "  ('Maria','Anne','Jones','1967-12-01','F',4000),\n",
    "  ('Jen','Mary','Brown','1980-02-17','F',-1)\n",
    "]\n",
    "\n",
    "columns = [\"firstname\",\"middlename\",\"lastname\",\"dob\",\"gender\",\"salary\"]\n"
   ]
  },
  {
   "cell_type": "code",
   "execution_count": null,
   "id": "b28f473e-29ba-4cc9-b95d-ad71aa2e41c8",
   "metadata": {},
   "outputs": [],
   "source": [
    "df = spark.createDataFrame(data=data, schema = columns)\n",
    "df.withColumn(\"Country\", lit(\"USA\")).show()\n",
    "df.withColumn(\"Country\", lit(\"USA\")) \\\n",
    "  .withColumn(\"anotherColumn\",lit(\"anotherValue\")) \\\n",
    "  .show()\n"
   ]
  },
  {
   "cell_type": "markdown",
   "id": "87504197-444f-4b3a-ac93-0e56ce37480c",
   "metadata": {
    "tags": []
   },
   "source": [
    "##### Model training(tunning)"
   ]
  },
  {
   "cell_type": "markdown",
   "id": "0dd69834-e46d-4476-a337-cc0a6c8ca155",
   "metadata": {
    "tags": []
   },
   "source": [
    "###### df_ratings"
   ]
  },
  {
   "cell_type": "code",
   "execution_count": null,
   "id": "19e6e473-a0aa-4a13-b4b3-f76ae9631b28",
   "metadata": {},
   "outputs": [],
   "source": [
    "df_ratings = spark.read.csv(\"hdfs://bdse85.example.com/tmp/ratings.csv\", inferSchema=True, header=True)\n",
    "df_movies = spark.read.csv(\"hdfs://bdse85.example.com/tmp/movies.csv\", inferSchema=True, header=True)"
   ]
  },
  {
   "cell_type": "code",
   "execution_count": null,
   "id": "dfaca41f-9aa0-444e-923c-b7388e75b023",
   "metadata": {},
   "outputs": [],
   "source": [
    "#split data\n",
    "(training , test) = df_ratings.randomSplit([0.8,0.2],seed=42)\n",
    "\n",
    "als =ALS(userCol=\"userId\", \\\n",
    "itemCol=\"movieId\", \\\n",
    "ratingCol=\"rating\",\\\n",
    "coldStartStrategy=\"drop\", \\\n",
    "nonnegative = True, \\\n",
    "implicitPrefs = False)\n",
    "\n",
    "#Tune model \n",
    "param_grid = ParamGridBuilder()\\\n",
    "             .addGrid(als.rank,[10,15,20])\\\n",
    "             .addGrid(als.maxIter, [5,10,15])\\\n",
    "             .addGrid(als.regParam, [.10,.15,.17])\\\n",
    "             .build()\n",
    "\n",
    "evals_rmse = RegressionEvaluator(metricName=\"rmse\", \\\n",
    "labelCol=\"rating\", \\\n",
    "predictionCol=\"prediction\")\n",
    "\n",
    "evals_r2 = RegressionEvaluator(metricName=\"r2\", \\\n",
    "labelCol=\"rating\", \\\n",
    "predictionCol=\"prediction\")\n"
   ]
  },
  {
   "cell_type": "code",
   "execution_count": null,
   "id": "4328b416-5b85-4aa9-b6d7-bd5406ef54aa",
   "metadata": {},
   "outputs": [],
   "source": [
    "cv_rmse = CrossValidator(estimator = als,\n",
    "estimatorParamMaps = param_grid,\n",
    "evaluator = evals_rmse,\n",
    "numFolds = 10)\n",
    "\n",
    "cv_r2 = CrossValidator(estimator = als,\n",
    "estimatorParamMaps = param_grid,\n",
    "evaluator = evals_r2,\n",
    "numFolds = 10)\n",
    "# cv2 = TrainValidationSplit(\n",
    "#     estimator=als,\n",
    "#     estimatorParamMaps=param_grid,\n",
    "#     evaluator=evals)\n",
    "\n",
    "#fit ALS model to training data\n",
    "model_rmse = cv_rmse.fit(training)\n",
    "\n",
    "model_r2 = cv_r2.fit(training)\n"
   ]
  },
  {
   "cell_type": "code",
   "execution_count": null,
   "id": "ee331054-89cf-480b-99fb-e33086261f6d",
   "metadata": {},
   "outputs": [],
   "source": [
    "#extract best model from tuning\n",
    "best_model_rmse = model_rmse.bestModel\n",
    "best_model_r2 = model_r2.bestModel\n",
    "\n",
    "predictions_rmse = best_model_rmse.transform(test)\n",
    "predictions_r2 = best_model_r2.transform(test)\n",
    "\n",
    "rmse = evals_rmse.evaluate(predictions_rmse)\n",
    "r2 = evals_r2.evaluate(predictions_r2)\n",
    "\n",
    "\n",
    "\n",
    "print(f\"RMSE:{rmse}\")\n",
    "print(f\"R square:{r2}\")\n",
    "\n",
    "print(\"**Best Model_RMSE**\")\n",
    "print(\" Rank:\", best_model_rmse.rank)\n",
    "print(\" MaxIter:\", best_model_rmse._java_obj.parent().getMaxIter())\n",
    "print(\" RegParam:\", best_model_rmse._java_obj.parent().getRegParam() )\n",
    "\n",
    "print(\"**Best Model_R square**\")\n",
    "print(\" Rank:\", best_model_r2.rank)\n",
    "print(\" MaxIter:\", best_model_r2._java_obj.parent().getMaxIter())\n",
    "print(\" RegParam:\", best_model_r2._java_obj.parent().getRegParam() )\n"
   ]
  },
  {
   "cell_type": "markdown",
   "id": "b657baac-ad20-49bd-a80a-11d226a402b6",
   "metadata": {
    "tags": []
   },
   "source": [
    "###### df_pre"
   ]
  },
  {
   "cell_type": "code",
   "execution_count": null,
   "id": "c84ae4c5-b3dc-4530-82c3-c9e30c64fdb4",
   "metadata": {},
   "outputs": [],
   "source": [
    "df_pre =spark.read.parquet(\"hdfs://bdse50.example.com/tmp/df_pre.csv\", inferSchema=True, header=True)\n",
    "df_movies = spark.read.csv(\"hdfs://bdse50.example.com/tmp/movies.csv\", inferSchema=True, header=True)"
   ]
  },
  {
   "cell_type": "code",
   "execution_count": null,
   "id": "f78f7615-54c4-4ad6-84d9-fd72557709e6",
   "metadata": {},
   "outputs": [],
   "source": [
    "df_pre.describe().show()"
   ]
  },
  {
   "cell_type": "code",
   "execution_count": null,
   "id": "667139e5-7194-4956-a436-dc7d3e82452f",
   "metadata": {},
   "outputs": [],
   "source": [
    "#split data\n",
    "(training , test) = df_pre.randomSplit([0.8,0.2],seed=42)\n",
    "\n",
    "als =ALS(userCol=\"userId\", \\\n",
    "itemCol=\"movieId\", \\\n",
    "ratingCol=\"prefer\",\\\n",
    "coldStartStrategy=\"drop\", \\\n",
    "nonnegative = True, \\\n",
    "implicitPrefs = False)\n",
    "\n",
    "#Tune model \n",
    "param_grid = ParamGridBuilder()\\\n",
    "             .addGrid(als.rank,[10,15,20])\\\n",
    "             .addGrid(als.maxIter, [5,10,15])\\\n",
    "             .addGrid(als.regParam, [.10,.15,.17])\\\n",
    "             .build()\n",
    "\n",
    "evals_rmse = RegressionEvaluator(metricName=\"rmse\", \\\n",
    "labelCol=\"prefer\", \\\n",
    "predictionCol=\"prediction\")\n",
    "\n",
    "evals_r2 = RegressionEvaluator(metricName=\"r2\", \\\n",
    "labelCol=\"prefer\", \\\n",
    "predictionCol=\"prediction\")\n"
   ]
  },
  {
   "cell_type": "code",
   "execution_count": null,
   "id": "3c47512d-6cc0-4e37-89d8-6d426cc1362e",
   "metadata": {},
   "outputs": [],
   "source": [
    "cv_rmse = CrossValidator(estimator = als,\n",
    "estimatorParamMaps = param_grid,\n",
    "evaluator = evals_rmse,\n",
    "numFolds = 10)\n",
    "\n",
    "cv_r2 = CrossValidator(estimator = als,\n",
    "estimatorParamMaps = param_grid,\n",
    "evaluator = evals_r2,\n",
    "numFolds = 10)\n",
    "# cv2 = TrainValidationSplit(\n",
    "#     estimator=als,\n",
    "#     estimatorParamMaps=param_grid,\n",
    "#     evaluator=evals)\n",
    "\n",
    "#fit ALS model to training data\n",
    "model_rmse = cv_rmse.fit(training)\n",
    "\n",
    "model_r2 = cv_r2.fit(training)\n"
   ]
  },
  {
   "cell_type": "code",
   "execution_count": null,
   "id": "a6ffc6e2-504d-4c78-981c-b5e3098a201a",
   "metadata": {},
   "outputs": [],
   "source": [
    "#extract best model from tuning\n",
    "best_model_rmse = model_rmse.bestModel\n",
    "best_model_r2 = model_r2.bestModel\n",
    "\n",
    "predictions_rmse = best_model_rmse.transform(test)\n",
    "predictions_r2 = best_model_r2.transform(test)\n",
    "\n",
    "rmse = evals_rmse.evaluate(predictions_rmse)\n",
    "r2 = evals_r2.evaluate(predictions_r2)\n",
    "\n",
    "\n",
    "\n",
    "print(f\"RMSE:{rmse}\")\n",
    "print(f\"R square:{r2}\")\n",
    "\n",
    "print(\"**Best Model_RMSE**\")\n",
    "print(\" Rank:\", best_model_rmse.rank)\n",
    "print(\" MaxIter:\", best_model_rmse._java_obj.parent().getMaxIter())\n",
    "print(\" RegParam:\", best_model_rmse._java_obj.parent().getRegParam() )\n",
    "\n",
    "print(\"**Best Model_R square**\")\n",
    "print(\" Rank:\", best_model_r2.rank)\n",
    "print(\" MaxIter:\", best_model_r2._java_obj.parent().getMaxIter())\n",
    "print(\" RegParam:\", best_model_r2._java_obj.parent().getRegParam() )\n"
   ]
  },
  {
   "cell_type": "markdown",
   "id": "b704181e-26af-4c94-a821-122fca0709b1",
   "metadata": {
    "tags": []
   },
   "source": [
    "###### df_HF_users"
   ]
  },
  {
   "cell_type": "code",
   "execution_count": null,
   "id": "363904dd-a630-4584-a6d8-afd5e6bd88ed",
   "metadata": {},
   "outputs": [],
   "source": [
    "df_HF_users =spark.read.parquet(\"hdfs://bdse50.example.com/tmp/df_HF_users.csv\", inferSchema=True, header=True)\n",
    "df_movies = spark.read.csv(\"hdfs://bdse50.example.com/tmp/movies.csv\", inferSchema=True, header=True)"
   ]
  },
  {
   "cell_type": "code",
   "execution_count": null,
   "id": "d30fd9f2-46db-437c-bc6e-c423b48b0c72",
   "metadata": {},
   "outputs": [],
   "source": [
    "df_HF_users.describe().show()"
   ]
  },
  {
   "cell_type": "code",
   "execution_count": null,
   "id": "6a2b3dcf-db16-48d5-9f67-e493d0bbb80a",
   "metadata": {},
   "outputs": [],
   "source": [
    "#split data\n",
    "(training , test) = df_HF_users.randomSplit([0.8,0.2],seed=42)\n",
    "\n",
    "als =ALS(userCol=\"userId\", \\\n",
    "itemCol=\"movieId\", \\\n",
    "ratingCol=\"rating\",\\\n",
    "coldStartStrategy=\"drop\", \\\n",
    "nonnegative = True, \\\n",
    "implicitPrefs = False)\n",
    "\n",
    "#Tune model \n",
    "param_grid = ParamGridBuilder()\\\n",
    "             .addGrid(als.rank,[15,20,25])\\\n",
    "             .addGrid(als.maxIter, [10,15,20])\\\n",
    "             .addGrid(als.regParam, [.06,.08,.10])\\\n",
    "             .build()\n",
    "\n",
    "evals_rmse = RegressionEvaluator(metricName=\"rmse\", \\\n",
    "labelCol=\"rating\", \\\n",
    "predictionCol=\"prediction\")\n",
    "\n",
    "evals_r2 = RegressionEvaluator(metricName=\"r2\", \\\n",
    "labelCol=\"rating\", \\\n",
    "predictionCol=\"prediction\")\n"
   ]
  },
  {
   "cell_type": "code",
   "execution_count": null,
   "id": "d70fc338-24fe-49aa-ac3d-2b5d9e9341b1",
   "metadata": {},
   "outputs": [],
   "source": [
    "cv_rmse = CrossValidator(estimator = als,\n",
    "estimatorParamMaps = param_grid,\n",
    "evaluator = evals_rmse,\n",
    "numFolds = 10)\n",
    "\n",
    "cv_r2 = CrossValidator(estimator = als,\n",
    "estimatorParamMaps = param_grid,\n",
    "evaluator = evals_r2,\n",
    "numFolds = 10)\n",
    "# cv2 = TrainValidationSplit(\n",
    "#     estimator=als,\n",
    "#     estimatorParamMaps=param_grid,\n",
    "#     evaluator=evals)\n",
    "\n",
    "#fit ALS model to training data\n",
    "model_rmse = cv_rmse.fit(training)\n",
    "\n",
    "model_r2 = cv_r2.fit(training)\n"
   ]
  },
  {
   "cell_type": "code",
   "execution_count": null,
   "id": "5f19b2c2-e827-4604-a178-9f4fb0b4c0db",
   "metadata": {},
   "outputs": [],
   "source": [
    "#extract best model from tuning\n",
    "best_model_rmse = model_rmse.bestModel\n",
    "best_model_r2 = model_r2.bestModel\n",
    "\n",
    "predictions_rmse = best_model_rmse.transform(test)\n",
    "predictions_r2 = best_model_r2.transform(test)\n",
    "\n",
    "rmse = evals_rmse.evaluate(predictions_rmse)\n",
    "r2 = evals_r2.evaluate(predictions_r2)\n",
    "\n",
    "\n",
    "\n",
    "print(f\"RMSE:{rmse}\")\n",
    "print(f\"R square:{r2}\")\n",
    "\n",
    "print(\"**Best Model_RMSE**\")\n",
    "print(\" Rank:\", best_model_rmse.rank)\n",
    "print(\" MaxIter:\", best_model_rmse._java_obj.parent().getMaxIter())\n",
    "print(\" RegParam:\", best_model_rmse._java_obj.parent().getRegParam() )\n",
    "\n",
    "print(\"**Best Model_R square**\")\n",
    "print(\" Rank:\", best_model_r2.rank)\n",
    "print(\" MaxIter:\", best_model_r2._java_obj.parent().getMaxIter())\n",
    "print(\" RegParam:\", best_model_r2._java_obj.parent().getRegParam() )\n"
   ]
  },
  {
   "cell_type": "code",
   "execution_count": null,
   "id": "58674b3d-2bbc-48b8-8f41-5ff10c6ab762",
   "metadata": {},
   "outputs": [],
   "source": []
  },
  {
   "cell_type": "code",
   "execution_count": null,
   "id": "2bc8986d-fb43-4373-894f-924cd23aa67e",
   "metadata": {},
   "outputs": [],
   "source": [
    "model.write().save(\"file:///home/yutinglin/ml-25m/ALS_0719\")"
   ]
  },
  {
   "cell_type": "code",
   "execution_count": null,
   "id": "eb9971e7-4a15-4503-b018-c5124ec5821c",
   "metadata": {},
   "outputs": [],
   "source": [
    "model = ALSModel.load(\"????path???ALS_0719\")"
   ]
  },
  {
   "cell_type": "code",
   "execution_count": null,
   "id": "1ba21b01-6f98-456a-98e6-d4300776331c",
   "metadata": {},
   "outputs": [],
   "source": [
    "predictions1 = best_model1.transform(test)\n",
    "rmse1 = evals.evaluate(predictions1)\n",
    "\n",
    "print(f\"RMSE:{rmse1}\")\n",
    "print(\"**Best Model**\")\n",
    "print(\" Rank:\"), best_model1.rank\n",
    "print(\" MaxIter:\"), best_model1._java_obj.parent().getMaxIter()\n",
    "print(\" RegParam:\"), best_model1._java_obj.parent().getRegParam() "
   ]
  },
  {
   "cell_type": "code",
   "execution_count": null,
   "id": "81227ee3-c1da-479b-ab8e-a3478904ec35",
   "metadata": {},
   "outputs": [],
   "source": [
    "\n",
    "r2 = evals.evaluate(predictions1)\n",
    "\n",
    "print(f\"R square:{r2}\")\n",
    "print(\"**Best Model**\")\n",
    "print(\" Rank:\", best_model1.rank)\n",
    "print(\" MaxIter:\", best_model1._java_obj.parent().getMaxIter())\n",
    "print(\" RegParam:\", best_model1._java_obj.parent().getRegParam() )"
   ]
  },
  {
   "cell_type": "code",
   "execution_count": null,
   "id": "022902db-abbb-4576-a1ca-e702bcf2d875",
   "metadata": {},
   "outputs": [],
   "source": [
    " best_model1._java_obj.parent().getMaxIter()"
   ]
  },
  {
   "cell_type": "code",
   "execution_count": null,
   "id": "ed2636cd-195b-4e0a-9eaf-d81066a5eaec",
   "metadata": {},
   "outputs": [],
   "source": [
    "\n",
    "print(f\"RMSE:{rmse1}\")\n",
    "print(\"**Best Model**\")\n",
    "print(\" Rank:\", best_model1.rank)\n",
    "print(\" MaxIter:\", best_model1._java_obj.parent().getMaxIter())\n",
    "print(\" RegParam:\", best_model1._java_obj.parent().getRegParam() )"
   ]
  },
  {
   "cell_type": "code",
   "execution_count": null,
   "id": "b40aa533-e91d-4551-972e-a9ab88d18d0e",
   "metadata": {},
   "outputs": [],
   "source": []
  }
 ],
 "metadata": {
  "kernelspec": {
   "display_name": "Python 3 (ipykernel)",
   "language": "python",
   "name": "python3"
  },
  "language_info": {
   "codemirror_mode": {
    "name": "ipython",
    "version": 3
   },
   "file_extension": ".py",
   "mimetype": "text/x-python",
   "name": "python",
   "nbconvert_exporter": "python",
   "pygments_lexer": "ipython3",
   "version": "3.8.10"
  }
 },
 "nbformat": 4,
 "nbformat_minor": 5
}
